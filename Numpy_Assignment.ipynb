{
 "cells": [
  {
   "cell_type": "code",
   "execution_count": 1,
   "id": "9315e2ee-67a2-421c-946b-a9a8a39dc9fa",
   "metadata": {},
   "outputs": [],
   "source": [
    "import numpy as np"
   ]
  },
  {
   "cell_type": "code",
   "execution_count": 2,
   "id": "3994f014-8ea3-4c99-b34d-9d02701db374",
   "metadata": {},
   "outputs": [
    {
     "name": "stdout",
     "output_type": "stream",
     "text": [
      "[[100 200 150 180]\n",
      " [ 50  80 120  90]\n",
      " [200 250 180 220]\n",
      " [ 60  90  75 100]]\n",
      "Task1 [[ 50  80]\n",
      " [200 250]]\n",
      "Task2 [ 75 100]\n",
      "Task3 630\n"
     ]
    }
   ],
   "source": [
    "#  1. The Warehouse Inventory\n",
    "     \n",
    "#   You work as a data analyst for a large warehouse that stores products in different sections. The warehouse's inventory is represented as a 2D NumPy array, where each row represents a section, and each column represents the quantity of products in different categories. The warehouse data is stored in the following array:\n",
    "\n",
    "warehouse = np.array([[100, 200, 150, 180], \n",
    "                         [50, 80, 120, 90], \n",
    "                         [200, 250, 180, 220], \n",
    "                         [60, 90, 75, 100]])\n",
    "print(warehouse)\n",
    "#   Task:  \n",
    "#   - Retrieve the quantities of products from sections 2 and 3 in categories 1 and 2.\n",
    "print(\"Task1\",warehouse[1:3,:2])\n",
    "#   - How many products are stored in section 4, categories 2 and 3 combined?\n",
    "print(\"Task2\",warehouse[3,2:])\n",
    "#   - Find the total number of products across all categories in section 1.\n",
    "print(\"Task3\",np.sum(warehouse[0]))"
   ]
  },
  {
   "cell_type": "code",
   "execution_count": 3,
   "id": "8ae7ab9a-6ea8-4fbb-a168-ea28bf76a563",
   "metadata": {},
   "outputs": [
    {
     "name": "stdout",
     "output_type": "stream",
     "text": [
      "[[ 500 1200 1500 1600]\n",
      " [ 700 1100 1400 1800]\n",
      " [ 450  950 1400 1700]\n",
      " [ 400  800 1300 1500]]\n",
      "Task1 [1400 1700]\n",
      "[1]\n",
      "[1200. 1250. 1125. 1000.]\n"
     ]
    }
   ],
   "source": [
    " # 2. Mountain Range Data     \n",
    "   # You're analyzing elevation data from a mountain range, stored in a 2D NumPy array where each row represents a different mountain and \n",
    "# each column represents the elevation at a different point along the mountain.\n",
    "elevations = np.array([[500, 1200, 1500, 1600],\n",
    "                          [700, 1100, 1400, 1800],\n",
    "                          [450, 950, 1400, 1700],\n",
    "                          [400, 800, 1300, 1500]])\n",
    "print(elevations)\n",
    "\n",
    "#   Task:\n",
    "#   - Extract the elevation data from the third mountain (row) at the second and third points (columns).\n",
    "print(\"Task1\",elevations[2,2:4])\n",
    "#   - What is the highest elevation point across all mountains, and at which point (column) does this occur?\n",
    "mx=np.max(elevations)\n",
    "print(np.where(elevations==mx)[0])\n",
    "#   - Calculate the average elevation for each mountain and return it as a 1D array.\n",
    "arr=np.array([])\n",
    "for i in range(len(elevations)):\n",
    "    arr=np.append(arr,np.sum(elevations[i])/len(elevations[i]))\n",
    "print(arr)    "
   ]
  },
  {
   "cell_type": "code",
   "execution_count": 4,
   "id": "12bb54fc-823d-488b-8ddc-658a053942de",
   "metadata": {},
   "outputs": [
    {
     "name": "stdout",
     "output_type": "stream",
     "text": [
      "[[12 15 10 17]\n",
      " [14 13 12 18]\n",
      " [10 11  9 14]\n",
      " [16 17 18 19]]\n",
      "Task1 [[13 12]\n",
      " [11  9]]\n",
      "Task2 4 70\n",
      "Task3 [13.5  14.25 11.   17.5 ]\n"
     ]
    }
   ],
   "source": [
    "#  3. Sports Performance Analysis     \n",
    "#   You are tasked with analyzing the performance of athletes in a series of events. The performance data is stored in a 2D NumPy array, where each row represents an athlete and each column represents their score in a different event.\n",
    "scores = np.array([[12, 15, 10, 17],\n",
    "                      [14, 13, 12, 18],\n",
    "                      [10, 11, 9, 14],\n",
    "                      [16, 17, 18, 19]])\n",
    "print(scores)\n",
    "   \n",
    "#   Task:\n",
    "#   - Retrieve the scores for the second and third athletes in events 2 and 3.\n",
    "print(\"Task1\",scores[1:3,1:3])\n",
    "#   - Which athlete performed the best overall? (Consider the sum of their scores across all events.)\n",
    "mx=0\n",
    "athlet=0\n",
    "for i in range(len(scores)):\n",
    "    if np.sum(scores[i])>mx:\n",
    "        mx=np.sum(scores[i])\n",
    "        athlet=i+1\n",
    "print(\"Task2\",athlet,mx)\n",
    "#   - Calculate the average score for each event (i.e., across all athletes) and return it as a 1D array.\n",
    "avg=np.array([])\n",
    "for i in range(len(scores)):\n",
    "    avg=np.append(avg,np.sum(scores[i])/len(scores[i]))\n",
    "print(\"Task3\",avg) "
   ]
  },
  {
   "cell_type": "code",
   "execution_count": 5,
   "id": "a1be8502-2e90-41a1-9098-c574527739de",
   "metadata": {},
   "outputs": [
    {
     "name": "stdout",
     "output_type": "stream",
     "text": [
      "[[85 92 78 91]\n",
      " [88 74 91 85]\n",
      " [78 79 82 80]\n",
      " [91 84 77 90]\n",
      " [80 88 84 85]]\n",
      "Task1 [78 79 82 80]\n",
      "Task2 417\n",
      "[np.int64(91), np.int64(90), np.int64(85)]\n",
      "85\n",
      "88\n",
      "91\n",
      "80\n",
      "Avg 86.0\n"
     ]
    }
   ],
   "source": [
    "#  4. Student Exam Results\n",
    "#   You're working with the exam results of students across multiple subjects. The exam scores are stored in a 2D NumPy array, where each row represents a student and each column represents the scores in different subjects.\n",
    "exam_scores = np.array([[85, 92, 78, 91],\n",
    "                          [88, 74, 91, 85],\n",
    "                          [78, 79, 82, 80],\n",
    "                          [91, 84, 77, 90],\n",
    "                          [80, 88, 84, 85]])\n",
    "print(exam_scores)\n",
    "#   Task:\n",
    "#   - Extract the scores for the third student in all subjects.\n",
    "print(\"Task1\",exam_scores[2])\n",
    "#   - Find the total score for the second subject (column 1) across all students.\n",
    "print(\"Task2\",np.sum(exam_scores[:,1]))\n",
    "#   - Determine the average score of the first subject for the top 3 performing students in the last subject.\n",
    "sum=0\n",
    "top_scores=sorted(exam_scores[:,3],reverse=True)[0:3]\n",
    "print(top_scores)\n",
    "c=0\n",
    "last=3\n",
    "for i,v in np.ndenumerate(exam_scores[:,0]):\n",
    "   if exam_scores[i][last] in top_scores:\n",
    "       sum+=v\n",
    "       print(v)\n",
    "       c+=1\n",
    "print(\"Avg\",sum/c)"
   ]
  },
  {
   "cell_type": "code",
   "execution_count": 6,
   "id": "1fcc49d3-d38d-411d-8abe-0a4d61f6816b",
   "metadata": {},
   "outputs": [
    {
     "name": "stdout",
     "output_type": "stream",
     "text": [
      "[[30 32 31 29 28 27 26 25 24 23 22 21]\n",
      " [15 16 17 18 19 20 21 22 23 24 25 26]\n",
      " [10 11 12 13 14 15 16 17 18 19 20 21]\n",
      " [40 41 42 43 44 45 46 47 48 49 50 51]]\n",
      "[10 11 12 13 14 15]\n",
      "December\n",
      "[[27 26 25]\n",
      " [45 46 47]]\n",
      "26.0\n",
      "46.0\n"
     ]
    }
   ],
   "source": [
    "#  5. Climate Data Analysis\n",
    "     \n",
    "#   As part of a climate research project, you need to analyze temperature data across different regions and months. The data is stored in a 2D NumPy array, where each row represents a region and each column represents a month of the year.\n",
    "\n",
    "   \n",
    "temperatures = np.array([[30, 32, 31, 29, 28, 27, 26, 25, 24, 23, 22, 21],\n",
    "                            [15, 16, 17, 18, 19, 20, 21, 22, 23, 24, 25, 26],\n",
    "                            [10, 11, 12, 13, 14, 15, 16, 17, 18, 19, 20, 21],\n",
    "                            [40, 41, 42, 43, 44, 45, 46, 47, 48, 49, 50, 51]])    \n",
    "print(temperatures)\n",
    "#   Task:\n",
    "#   - Extract the temperatures of region 3 for the first six months.\n",
    "print(temperatures[2,:6])\n",
    "#   - Find the highest temperature in region 2 and identify the corresponding month.\n",
    "mx=np.max(temperatures[1,:])\n",
    "for i,v in np.ndenumerate(temperatures[1,:]):\n",
    "    if v==mx:\n",
    "        if i[0]==11:\n",
    "            print(\"December\")\n",
    "#   - For regions 1 and 4, calculate the average temperature for the months of June, July, and August. \n",
    "r=temperatures[0::3,5:8]\n",
    "print(r)\n",
    "for i in range(len(r)):\n",
    "\n",
    "    print(np.sum(r[i])/3)"
   ]
  },
  {
   "cell_type": "code",
   "execution_count": 7,
   "id": "a4bd91d4-fe2c-4a23-af41-232a142c31a1",
   "metadata": {},
   "outputs": [
    {
     "name": "stdout",
     "output_type": "stream",
     "text": [
      "[[500 600 550 580]\n",
      " [450 480 500 520]\n",
      " [700 750 720 740]\n",
      " [550 580 600 620]]\n",
      "Task1 [750 720]\n",
      "Task2 [580 520 740 620]\n",
      "Department3 3\n"
     ]
    }
   ],
   "source": [
    "#  6. Factory Production Analysis  \n",
    "# A factory produces different types of products, \n",
    "# and the production count is stored in a 2D NumPy array,\n",
    "# where each row represents a department, and each column represents a product type.\n",
    "\n",
    "# python\n",
    "production = np.array([[500, 600, 550, 580],\n",
    "                       [450, 480, 500, 520],\n",
    "                       [700, 750, 720, 740],\n",
    "                       [550, 580, 600, 620]])\n",
    "\n",
    "print(production)\n",
    "#  Task:  \n",
    "# - Extract the production count of department 3 for product types 2 and 3. \n",
    "print(\"Task1\",production[2,1:3])\n",
    "# - Find the total production count for product type 4 across all departments.  \n",
    "print(\"Task2\",production[:,3])\n",
    "# - Identify which department has the highest total production count across all product types.\n",
    "max=0\n",
    "department=0\n",
    "for i in range(len(production)):\n",
    "    for j in range(len(production[i])):\n",
    "        if production[i][j]>max:\n",
    "            max=production[i][j]\n",
    "            department=i\n",
    "print(\"Department3\",department+1)\n",
    "        "
   ]
  },
  {
   "cell_type": "code",
   "execution_count": 13,
   "id": "372b96ec-8007-4ce2-af15-862d32883b15",
   "metadata": {},
   "outputs": [
    {
     "name": "stdout",
     "output_type": "stream",
     "text": [
      "[[40 42 38 41]\n",
      " [35 36 34 38]\n",
      " [45 46 44 47]\n",
      " [39 40 41 42]]\n",
      "Task1 [[36 34]\n",
      " [40 41]]\n",
      "Task2 161\n",
      "Avg Week 1 is 39.75\n",
      "\n",
      "Avg Week 2 is 41.0\n",
      "\n",
      "Avg Week 3 is 39.25\n",
      "\n",
      "Avg Week 4 is 42.0\n",
      "\n"
     ]
    }
   ],
   "source": [
    "#  7. Employee Work Hours Analysis  \n",
    "# A company tracks employee work hours in a 2D NumPy array, where each row represents an employee \n",
    "# and each column represents the hours worked per week over 4 weeks.\n",
    "\n",
    "# python\n",
    "work_hours = np.array([[40, 42, 38, 41],\n",
    "                       [35, 36, 34, 38],\n",
    "                       [45, 46, 44, 47],\n",
    "                       [39, 40, 41, 42]])\n",
    "\n",
    "print(work_hours)\n",
    "#  Task:  \n",
    "# - Extract the work hours of employees 2 and 4 for weeks 2 and 3.  \n",
    "print(\"Task1\",work_hours[1::2,1:3])\n",
    "# - Calculate the total work hours for employee 1 across all weeks.  \n",
    "print(\"Task2\",np.sum(work_hours[0,:]))\n",
    "# - Find the average work hours per week for all employees.\n",
    "\n",
    "for i in range(len(work_hours)):\n",
    "    sum=0\n",
    "    for j in range(len(work_hours[i])):\n",
    "        sum+=work_hours[j][i]\n",
    "    print(f\"Avg Week {i+1} is {sum/4}\")\n",
    "\n",
    "    print()"
   ]
  },
  {
   "cell_type": "code",
   "execution_count": 20,
   "id": "16224173-e496-42e4-b855-94b453ccf1f0",
   "metadata": {},
   "outputs": [
    {
     "name": "stdout",
     "output_type": "stream",
     "text": [
      "[[20000 22000 25000 24000 23000 26000]\n",
      " [18000 19000 20000 21000 22000 23000]\n",
      " [30000 31000 32000 33000 34000 35000]]\n",
      "Task1 [20000 21000 22000 23000]\n",
      "Task2 140000\n",
      "Task3 35000\n"
     ]
    }
   ],
   "source": [
    "#  8. Sales Revenue Analysis  \n",
    "# A retail store records its monthly revenue for different branches in a 2D NumPy array,\n",
    "# where each row represents a branch and each column represents a month (January to June).\n",
    "\n",
    "# python\n",
    "revenue = np.array([[20000, 22000, 25000, 24000, 23000, 26000],\n",
    "                    [18000, 19000, 20000, 21000, 22000, 23000],\n",
    "                    [30000, 31000, 32000, 33000, 34000, 35000]])\n",
    "\n",
    "print(revenue)\n",
    "#  Task:  \n",
    "# - Extract the revenue for branch 2 from March to June.  \n",
    "print(\"Task1\",revenue[1,2:])\n",
    "# - Find the total revenue generated by branch 1.  \n",
    "print(\"Task2\",np.sum(revenue[0]))\n",
    "# - Determine the highest revenue month for branch 3.\n",
    "print(\"Task3\",np.max(revenue[2]))"
   ]
  },
  {
   "cell_type": "code",
   "execution_count": 34,
   "id": "42aade7b-a763-42af-b1d9-7eae921dfbb7",
   "metadata": {},
   "outputs": [
    {
     "name": "stdout",
     "output_type": "stream",
     "text": [
      "[[30 25 28 32 29 31 35]\n",
      " [20 18 22 24 21 23 26]\n",
      " [40 38 42 45 44 47 50]]\n",
      "Task1 [42 45]\n",
      "Task2 210\n",
      "Sunday 50\n"
     ]
    }
   ],
   "source": [
    "#  9. Hospital Patient Admissions  \n",
    "# A hospital records the number of patients admitted each day in different wards using a 2D NumPy array, \n",
    "# where each row represents a ward and each column represents a day of the week (Monday-Sunday).\n",
    "\n",
    "# python\n",
    "admissions = np.array([[30, 25, 28, 32, 29, 31, 35],\n",
    "                        [20, 18, 22, 24, 21, 23, 26],\n",
    "                        [40, 38, 42, 45, 44, 47, 50]\n",
    "])\n",
    "print(admissions)\n",
    "#  Task:  \n",
    "# - Extract the admissions count for ward 3 on Wednesday and Thursday.  \n",
    "print(\"Task1\",admissions[2,2:4])\n",
    "# - Find the total admissions for ward 1 during the week.  \n",
    "print(\"Task2\",np.sum(admissions[0]))\n",
    "# - Identify which day had the highest total admissions across all wards.\n",
    "mx=0\n",
    "ad=0\n",
    "for i,v in np.ndenumerate(admissions):\n",
    "    if v>mx:\n",
    "        mx=v\n",
    "        ad=i[1]\n",
    "if ad==0:\n",
    "    print(\"Monday\")\n",
    "elif ad==1:\n",
    "    print(\"Tuesday\")\n",
    "elif ad==6:\n",
    "    print(\"Sunday\",end=\" \")\n",
    "print(mx)"
   ]
  },
  {
   "cell_type": "code",
   "execution_count": 38,
   "id": "238325c4-6eb6-43d2-83d4-a77fb11a4aec",
   "metadata": {},
   "outputs": [
    {
     "name": "stdout",
     "output_type": "stream",
     "text": [
      "[[120 150 130 140 135 160 170]\n",
      " [100 110 115 120 125 130 135]\n",
      " [200 210 190 220 230 240 250]]\n",
      "[100 110 115 120]\n",
      "1540\n",
      "3\n"
     ]
    }
   ],
   "source": [
    "#  10. E-commerce Order Processing  \n",
    "# An e-commerce company tracks the number of orders processed per day across different warehouses in a 2D NumPy array,\n",
    "# where each row represents a warehouse and each column represents a day of the week (Monday to Sunday).\n",
    "\n",
    "# python\n",
    "orders = np.array([[120, 150, 130, 140, 135, 160, 170],\n",
    "                   [100, 110, 115, 120, 125, 130, 135],\n",
    "                   [200, 210, 190, 220, 230, 240, 250]])\n",
    "\n",
    "print(orders)\n",
    "#  Task:  \n",
    "# - Retrieve the order counts from warehouse 2 for Monday and Thursday. \n",
    "print(\"Task1\",orders[1,0:4])\n",
    "# - Find the total orders processed by warehouse 3 during the week. \n",
    "print(\"Task2\",np.sum(orders[2]))\n",
    "# - Determine which warehouse had the highest total order count.\n",
    "mx=0\n",
    "w=0\n",
    "for i in range(len(orders)):\n",
    "    if np.sum(orders[i])>mx:\n",
    "        mx=np.sum(orders[i])\n",
    "        w=i+1\n",
    "print(\"Task3\",w)"
   ]
  },
  {
   "cell_type": "code",
   "execution_count": 45,
   "id": "f03ceeda-3ece-437b-95ee-1a218256c5ed",
   "metadata": {},
   "outputs": [
    {
     "name": "stdout",
     "output_type": "stream",
     "text": [
      "[[10000 12000 14000 13000 12500 15000]\n",
      " [ 8000  9000  9500 10000 10500 11000]\n",
      " [15000 16000 15500 17000 18000 19000]]\n",
      "Task1 41000\n",
      "Task2 76500\n",
      "June\n"
     ]
    }
   ],
   "source": [
    "#  11. Airline Passenger Traffic Analysis  \n",
    "# An airline tracks the number of passengers traveling each month in a 2D NumPy array,\n",
    "# where each row represents a flight route and each column represents a month from January to June.\n",
    "\n",
    "# python\n",
    "passengers = np.array([[10000, 12000, 14000, 13000, 12500, 15000],\n",
    "                       [8000, 9000, 9500, 10000, 10500, 11000],\n",
    "                       [15000, 16000, 15500, 17000, 18000, 19000]])\n",
    "print(passengers)\n",
    "\n",
    "\n",
    "#  Task:  \n",
    "# - Extract the passenger count for route 2 from March to June.  \n",
    "print(\"Task1\",np.sum(passengers[1,2:]))\n",
    "# - Find the total passengers for route 1 over the six months. \n",
    "print(\"Task2\",np.sum(passengers[0]))\n",
    "# - Identify the month with the highest total passenger count across all routes.\n",
    "mx=0\n",
    "month=0\n",
    "for i,v in np.ndenumerate(passengers):\n",
    "    if v>mx:\n",
    "        mx=v\n",
    "        month=i[1]\n",
    "if month==5:\n",
    "    print(\"June\")\n",
    "# print(month)"
   ]
  },
  {
   "cell_type": "code",
   "execution_count": 54,
   "id": "3ba4d401-3843-47d0-98f7-90a299b2b5df",
   "metadata": {},
   "outputs": [
    {
     "name": "stdout",
     "output_type": "stream",
     "text": [
      "[[50 55 53 60 62]\n",
      " [40 42 45 47 50]\n",
      " [70 75 78 80 85]]\n",
      "Task1 113\n",
      "Task2 388\n",
      "Avg 53.333333333333336\n",
      "Avg 57.333333333333336\n",
      "Avg 58.666666666666664\n"
     ]
    }
   ],
   "source": [
    "#  12. Agricultural Crop Yield Analysis  \n",
    "# A farm tracks the crop yield (in tons) per month for different fields using a 2D NumPy array, \n",
    "# where each row represents a field and each column represents a month from January to May.\n",
    "\n",
    "# python\n",
    "crop_yield = np.array([[50, 55, 53, 60, 62],\n",
    "                        [40, 42, 45, 47, 50],\n",
    "                        [70, 75, 78, 80, 85]])\n",
    "\n",
    "print(crop_yield)\n",
    "#  Task:  \n",
    "# - Retrieve the crop yield for field 1 in March and April. \n",
    "print(\"Task1\",np.sum(crop_yield[0,2:4]))\n",
    "# - Calculate the total crop yield for field 3 over five months.  \n",
    "print(\"Task2\",np.sum(crop_yield[2,:]))\n",
    "# - Find the average crop yield per month across all fields\n",
    "for i in range(len(crop_yield)):\n",
    "    sum=0\n",
    "    for j in range(3):\n",
    "        sum+=crop_yield[j][i]\n",
    "    print(\"Avg\",sum/3)\n",
    "        \n",
    "      "
   ]
  },
  {
   "cell_type": "code",
   "execution_count": null,
   "id": "56b37672-9df5-4243-a73d-b980e1d75d3a",
   "metadata": {},
   "outputs": [],
   "source": []
  }
 ],
 "metadata": {
  "kernelspec": {
   "display_name": "Python 3 (ipykernel)",
   "language": "python",
   "name": "python3"
  },
  "language_info": {
   "codemirror_mode": {
    "name": "ipython",
    "version": 3
   },
   "file_extension": ".py",
   "mimetype": "text/x-python",
   "name": "python",
   "nbconvert_exporter": "python",
   "pygments_lexer": "ipython3",
   "version": "3.13.0"
  }
 },
 "nbformat": 4,
 "nbformat_minor": 5
}
