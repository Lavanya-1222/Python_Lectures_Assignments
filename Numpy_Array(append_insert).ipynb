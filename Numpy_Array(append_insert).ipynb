{
  "nbformat": 4,
  "nbformat_minor": 0,
  "metadata": {
    "colab": {
      "provenance": []
    },
    "kernelspec": {
      "name": "python3",
      "display_name": "Python 3"
    },
    "language_info": {
      "name": "python"
    }
  },
  "cells": [
    {
      "cell_type": "code",
      "execution_count": 2,
      "metadata": {
        "id": "i6MdptP9q5EX"
      },
      "outputs": [],
      "source": [
        "# 1. Create a 2D numpy array of shape (3, 3) with random integers. Append a new row [10, 20, 30] to the array and print the result.\n",
        "import numpy as np\n"
      ]
    },
    {
      "cell_type": "code",
      "source": [
        "arr=np.array([[4,5,6],\n",
        "              [11,20,23],\n",
        "              [14,45,68]])\n",
        "arr=np.append(arr,[[10,20,30]],axis=0)\n",
        "arr"
      ],
      "metadata": {
        "colab": {
          "base_uri": "https://localhost:8080/"
        },
        "id": "6IYKHyTmrybR",
        "outputId": "ef0f5a40-b23c-4d65-9019-7dea8bb0e98c"
      },
      "execution_count": 9,
      "outputs": [
        {
          "output_type": "execute_result",
          "data": {
            "text/plain": [
              "array([[ 4,  5,  6],\n",
              "       [11, 20, 23],\n",
              "       [14, 45, 68],\n",
              "       [10, 20, 30]])"
            ]
          },
          "metadata": {},
          "execution_count": 9
        }
      ]
    },
    {
      "cell_type": "code",
      "source": [
        "# 2. Given a 2D numpy array of shape (2, 2), insert a new column [5, 10] at the second position and print the modified array.\n",
        "arr=np.array([[1,2],[3,4]])\n",
        "arr\n",
        "arr=np.append(arr,[[5],[10]],axis=1)\n",
        "arr"
      ],
      "metadata": {
        "colab": {
          "base_uri": "https://localhost:8080/"
        },
        "id": "mZobf198sS_L",
        "outputId": "9ba78fbb-1f88-4c09-c1a6-332a6dfe0239"
      },
      "execution_count": 21,
      "outputs": [
        {
          "output_type": "execute_result",
          "data": {
            "text/plain": [
              "array([[ 1,  2,  5],\n",
              "       [ 3,  4, 10]])"
            ]
          },
          "metadata": {},
          "execution_count": 21
        }
      ]
    },
    {
      "cell_type": "code",
      "source": [
        "# 3. Create a 3D numpy array of shape (2, 2, 2) with random integers. Append a new 2D array of shape (1, 2, 2) with values [[[7, 8], [9, 10]]] and print the result.\n",
        "arr=np.array([[[1,2],\n",
        "               [3,4]],\n",
        "              [[6,5],\n",
        "               [8,7]]\n",
        "              ])\n",
        "arr\n",
        "arr=np.append(arr,[[[7,8],[9,10]]],axis=0)\n",
        "arr"
      ],
      "metadata": {
        "colab": {
          "base_uri": "https://localhost:8080/"
        },
        "id": "yRXow5cBzy6M",
        "outputId": "7fd025d2-1e04-4147-dae5-c6c0c34c4719"
      },
      "execution_count": 25,
      "outputs": [
        {
          "output_type": "execute_result",
          "data": {
            "text/plain": [
              "array([[[ 1,  2],\n",
              "        [ 3,  4]],\n",
              "\n",
              "       [[ 6,  5],\n",
              "        [ 8,  7]],\n",
              "\n",
              "       [[ 7,  8],\n",
              "        [ 9, 10]]])"
            ]
          },
          "metadata": {},
          "execution_count": 25
        }
      ]
    },
    {
      "cell_type": "code",
      "source": [
        "# 4. Given a 2D numpy array of shape (4, 3), insert a new row [1, 2, 3] at the third position and print the modified array.\n",
        "arr=np.array([[4,5,6],\n",
        "              [11,20,23],\n",
        "              [14,45,68],\n",
        "              [3,8,9]])\n",
        "arr\n",
        "np.insert(arr,3,[1,2,3],axis=0)"
      ],
      "metadata": {
        "colab": {
          "base_uri": "https://localhost:8080/"
        },
        "id": "PnJC2slW3Kvy",
        "outputId": "2bbeb0a2-b5d6-423c-be06-5d2bae6aa66e"
      },
      "execution_count": 28,
      "outputs": [
        {
          "output_type": "execute_result",
          "data": {
            "text/plain": [
              "array([[ 4,  5,  6],\n",
              "       [11, 20, 23],\n",
              "       [14, 45, 68],\n",
              "       [ 1,  2,  3],\n",
              "       [ 3,  8,  9]])"
            ]
          },
          "metadata": {},
          "execution_count": 28
        }
      ]
    },
    {
      "cell_type": "code",
      "source": [
        "# 5. Create a 2D numpy array of shape (2, 4) with random integers. Append a new column [6, 7] at the end and print the result.\n",
        "arr=np.array([[4,5,6,0],\n",
        "              [11,20,23,8]])\n",
        "arr\n",
        "np.append(arr,[ [6],[7]],axis=1)"
      ],
      "metadata": {
        "colab": {
          "base_uri": "https://localhost:8080/"
        },
        "id": "9Ts5MpSP3vqk",
        "outputId": "95db45d2-7feb-447e-a267-5b64a0ecc99c"
      },
      "execution_count": 30,
      "outputs": [
        {
          "output_type": "execute_result",
          "data": {
            "text/plain": [
              "array([[ 4,  5,  6,  0,  6],\n",
              "       [11, 20, 23,  8,  7]])"
            ]
          },
          "metadata": {},
          "execution_count": 30
        }
      ]
    },
    {
      "cell_type": "code",
      "source": [
        "# 6. Given a 3D numpy array of shape (3, 3, 3), insert a new 2D array of shape (1, 3, 3)\n",
        "# with values [[[1, 2, 3], [4, 5, 6], [7, 8, 9]]] at the second position and print the modified array.\n",
        "arr=np.array([[[1,50,21],\n",
        "               [32,50,34],\n",
        "               [1,1,1]],\n",
        "\n",
        "              [[1,50,21],\n",
        "               [32,30,34],\n",
        "                [1,1,1]],\n",
        "\n",
        "              [[100,50,201],\n",
        "               [321,0,340],\n",
        "              [1,1,1]\n",
        "              ]])\n",
        "print(arr)\n",
        "np.insert(arr,2,[[[1, 2, 3], [4, 5, 6], [7, 8, 9]]],axis=0)\n"
      ],
      "metadata": {
        "colab": {
          "base_uri": "https://localhost:8080/"
        },
        "id": "J2dQB1Nd-jIu",
        "outputId": "225991fb-db43-476b-977b-ee849ea716e8"
      },
      "execution_count": 33,
      "outputs": [
        {
          "output_type": "stream",
          "name": "stdout",
          "text": [
            "[[[  1  50  21]\n",
            "  [ 32  50  34]\n",
            "  [  1   1   1]]\n",
            "\n",
            " [[  1  50  21]\n",
            "  [ 32  30  34]\n",
            "  [  1   1   1]]\n",
            "\n",
            " [[100  50 201]\n",
            "  [321   0 340]\n",
            "  [  1   1   1]]]\n"
          ]
        },
        {
          "output_type": "execute_result",
          "data": {
            "text/plain": [
              "array([[[  1,  50,  21],\n",
              "        [ 32,  50,  34],\n",
              "        [  1,   1,   1]],\n",
              "\n",
              "       [[  1,  50,  21],\n",
              "        [ 32,  30,  34],\n",
              "        [  1,   1,   1]],\n",
              "\n",
              "       [[  1,   2,   3],\n",
              "        [  4,   5,   6],\n",
              "        [  7,   8,   9]],\n",
              "\n",
              "       [[100,  50, 201],\n",
              "        [321,   0, 340],\n",
              "        [  1,   1,   1]]])"
            ]
          },
          "metadata": {},
          "execution_count": 33
        }
      ]
    },
    {
      "cell_type": "code",
      "source": [
        "# 7. Create a 2D numpy array of shape (5, 2) with random integers. Insert a new row [11, 12] at the beginning and print the modified array.\n",
        "arr=np.array([[1,2],\n",
        "               [3,4],\n",
        "              [6,5],\n",
        "               [8,7],\n",
        "              [10,22]])\n",
        "print(arr)\n",
        "np.insert(arr,0,[[11,12]],axis=0)"
      ],
      "metadata": {
        "colab": {
          "base_uri": "https://localhost:8080/"
        },
        "id": "-zgupRHkAxVj",
        "outputId": "0b04890a-c47f-4c8e-ce46-04ed18e6f519"
      },
      "execution_count": 35,
      "outputs": [
        {
          "output_type": "stream",
          "name": "stdout",
          "text": [
            "[[ 1  2]\n",
            " [ 3  4]\n",
            " [ 6  5]\n",
            " [ 8  7]\n",
            " [10 22]]\n"
          ]
        },
        {
          "output_type": "execute_result",
          "data": {
            "text/plain": [
              "array([[11, 12],\n",
              "       [ 1,  2],\n",
              "       [ 3,  4],\n",
              "       [ 6,  5],\n",
              "       [ 8,  7],\n",
              "       [10, 22]])"
            ]
          },
          "metadata": {},
          "execution_count": 35
        }
      ]
    },
    {
      "cell_type": "code",
      "source": [
        "# 8. Given a 2D numpy array of shape (3, 5), append a new row [13, 14, 15, 16, 17] and print the result.\n",
        "arr=np.array([[4,5,   6,1,2],\n",
        "        [  7,   8,   9,5,6],[100,  50, 201,8,9]])\n",
        "print(arr)\n",
        "np.append(arr,[[13,14,15,16,17]],axis=0\n",
        ")"
      ],
      "metadata": {
        "colab": {
          "base_uri": "https://localhost:8080/"
        },
        "id": "RJKpNFwtBT-L",
        "outputId": "558a3a8f-9176-422f-892f-8119377ef1d0"
      },
      "execution_count": 39,
      "outputs": [
        {
          "output_type": "stream",
          "name": "stdout",
          "text": [
            "[[  4   5   6   1   2]\n",
            " [  7   8   9   5   6]\n",
            " [100  50 201   8   9]]\n"
          ]
        },
        {
          "output_type": "execute_result",
          "data": {
            "text/plain": [
              "array([[  4,   5,   6,   1,   2],\n",
              "       [  7,   8,   9,   5,   6],\n",
              "       [100,  50, 201,   8,   9],\n",
              "       [ 13,  14,  15,  16,  17]])"
            ]
          },
          "metadata": {},
          "execution_count": 39
        }
      ]
    },
    {
      "cell_type": "code",
      "source": [
        "# 9. Create a 3D numpy array of shape (2, 2, 3) with random integers. Insert a new 2D array of shape (1, 2, 3)\n",
        "#  with values [[[18, 19, 20], [21, 22, 23]]] at the end and print the modified array.\n",
        "import numpy as np\n",
        "arr=np.array([\n",
        "    [\n",
        "        [1,2,3],\n",
        "         [4,5,6]\n",
        "    ],\n",
        "    [\n",
        "        [6,7,8],\n",
        "         [10,11,12]\n",
        "     ]\n",
        "])\n",
        "arr\n",
        "np.insert(arr,-1,[[18, 19, 20],[21, 22, 23]],axis=0)"
      ],
      "metadata": {
        "colab": {
          "base_uri": "https://localhost:8080/"
        },
        "id": "wSQfootZBwKT",
        "outputId": "2c77ab25-1157-4e27-9229-2e5218f5d536"
      },
      "execution_count": 56,
      "outputs": [
        {
          "output_type": "execute_result",
          "data": {
            "text/plain": [
              "array([[[ 1,  2,  3],\n",
              "        [ 4,  5,  6]],\n",
              "\n",
              "       [[18, 19, 20],\n",
              "        [21, 22, 23]],\n",
              "\n",
              "       [[ 6,  7,  8],\n",
              "        [10, 11, 12]]])"
            ]
          },
          "metadata": {},
          "execution_count": 56
        }
      ]
    },
    {
      "cell_type": "code",
      "source": [
        "# 10. Given a 2D numpy array of shape (2, 3), insert a new column [8, 9] at the first position and print the modified array.\n",
        "arr=np.array([[1,2,3],\n",
        "               [4,5,6]])\n",
        "arr\n",
        "np.insert(arr,0,[8,9],axis=1)"
      ],
      "metadata": {
        "colab": {
          "base_uri": "https://localhost:8080/"
        },
        "id": "NIm52l5QFNja",
        "outputId": "711e274a-402e-4163-d0c8-2751dcfb2429"
      },
      "execution_count": 60,
      "outputs": [
        {
          "output_type": "execute_result",
          "data": {
            "text/plain": [
              "array([[8, 1, 2, 3],\n",
              "       [9, 4, 5, 6]])"
            ]
          },
          "metadata": {},
          "execution_count": 60
        }
      ]
    },
    {
      "cell_type": "code",
      "source": [
        "# 11. Create a 2D numpy array of shape (4, 4) with random integers. Append a new row [24, 25, 26, 27] and print the result.\n",
        "arr=np.array([[1,2,3,8],\n",
        "               [4,5,6,9],\n",
        "              [1,2,31,8],\n",
        "               [4,55,6,9]])\n",
        "print(arr)\n",
        "np.append(arr,[[24,25,26,27]])"
      ],
      "metadata": {
        "colab": {
          "base_uri": "https://localhost:8080/"
        },
        "id": "kOmVIHscHDlP",
        "outputId": "3da58bfb-1986-42e0-df33-ace3d6f9945e"
      },
      "execution_count": 61,
      "outputs": [
        {
          "output_type": "stream",
          "name": "stdout",
          "text": [
            "[[ 1  2  3  8]\n",
            " [ 4  5  6  9]\n",
            " [ 1  2 31  8]\n",
            " [ 4 55  6  9]]\n"
          ]
        }
      ]
    },
    {
      "cell_type": "code",
      "source": [
        "# 12. Given a 3D numpy array of shape (1, 3, 3), insert a new 2D array of shape (1, 3, 3)\n",
        "# with values [[[28, 29, 30], [31, 32, 33], [34, 35, 36]]] at the beginning and print the modified array.\n",
        "arr=np.array([[[1,2,3],\n",
        "               [4,5,6],\n",
        "               [7,8,9]]])\n",
        "print(arr)\n",
        "np.insert(arr,0, [[[28, 29, 30], [31, 32, 33], [34, 35, 36]]],axis=0)"
      ],
      "metadata": {
        "colab": {
          "base_uri": "https://localhost:8080/"
        },
        "id": "zzZZViAfHiiK",
        "outputId": "3bda3859-8e69-4bca-f55a-96e67d3a24be"
      },
      "execution_count": 67,
      "outputs": [
        {
          "output_type": "stream",
          "name": "stdout",
          "text": [
            "[[[1 2 3]\n",
            "  [4 5 6]\n",
            "  [7 8 9]]]\n"
          ]
        },
        {
          "output_type": "execute_result",
          "data": {
            "text/plain": [
              "array([[[28, 29, 30],\n",
              "        [31, 32, 33],\n",
              "        [34, 35, 36]],\n",
              "\n",
              "       [[ 1,  2,  3],\n",
              "        [ 4,  5,  6],\n",
              "        [ 7,  8,  9]]])"
            ]
          },
          "metadata": {},
          "execution_count": 67
        }
      ]
    },
    {
      "cell_type": "code",
      "source": [
        "# 13. Create a 2D numpy array of shape (3, 2) with random integers. Insert a new column [37, 38, 39] at the second position and print the modified array.\n",
        "arr=np.array([\n",
        "    [1,2],\n",
        "    [3,4],\n",
        "    [5,6]])\n",
        "arr\n",
        "np.insert(arr,1,[37,38,39],axis=1)"
      ],
      "metadata": {
        "colab": {
          "base_uri": "https://localhost:8080/"
        },
        "id": "aenVeXvTMnrv",
        "outputId": "9e1d1dbc-d972-45dd-ad52-fcf250680009"
      },
      "execution_count": 69,
      "outputs": [
        {
          "output_type": "execute_result",
          "data": {
            "text/plain": [
              "array([[ 1, 37,  2],\n",
              "       [ 3, 38,  4],\n",
              "       [ 5, 39,  6]])"
            ]
          },
          "metadata": {},
          "execution_count": 69
        }
      ]
    },
    {
      "cell_type": "code",
      "source": [
        "# 14. Given a 2D numpy array of shape (2, 4), append a new column [40, 41] and print the result.\n",
        "arr=np.array([\n",
        "    [1,2,3,4],\n",
        "    [5,6,7,8]])\n",
        "arr\n",
        "np.append(arr,[[40],[41]],axis=1)"
      ],
      "metadata": {
        "colab": {
          "base_uri": "https://localhost:8080/"
        },
        "id": "-otxA6YNOWE9",
        "outputId": "a4cb30e4-c806-436d-9d6b-249fb70dfb51"
      },
      "execution_count": 70,
      "outputs": [
        {
          "output_type": "execute_result",
          "data": {
            "text/plain": [
              "array([[ 1,  2,  3,  4, 40],\n",
              "       [ 5,  6,  7,  8, 41]])"
            ]
          },
          "metadata": {},
          "execution_count": 70
        }
      ]
    },
    {
      "cell_type": "markdown",
      "source": [],
      "metadata": {
        "id": "0qFZU7ZNPHPc"
      }
    },
    {
      "cell_type": "code",
      "source": [
        "# 15. Create a 3D numpy array of shape (2, 2, 2) with random integers. Insert a new 2D array of shape (1, 2, 2)\n",
        "# with values [[[42, 43], [44, 45]]] at the first position and print the modified array.\n",
        "arr=np.array([[[1,2],\n",
        "               [3,4]],\n",
        "              [[5,6],\n",
        "               [7,8]]])\n",
        "arr\n",
        "np.insert(arr,0,[[[42,43],[44,45]]],axis=0)"
      ],
      "metadata": {
        "colab": {
          "base_uri": "https://localhost:8080/"
        },
        "id": "xRbV4jtrO_rs",
        "outputId": "af7a3826-55e2-484f-facc-47fa4d023548"
      },
      "execution_count": 72,
      "outputs": [
        {
          "output_type": "execute_result",
          "data": {
            "text/plain": [
              "array([[[42, 43],\n",
              "        [44, 45]],\n",
              "\n",
              "       [[ 1,  2],\n",
              "        [ 3,  4]],\n",
              "\n",
              "       [[ 5,  6],\n",
              "        [ 7,  8]]])"
            ]
          },
          "metadata": {},
          "execution_count": 72
        }
      ]
    },
    {
      "cell_type": "code",
      "source": [],
      "metadata": {
        "id": "rr6V4J49PKoB"
      },
      "execution_count": null,
      "outputs": []
    }
  ]
}