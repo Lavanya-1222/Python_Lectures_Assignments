{
  "nbformat": 4,
  "nbformat_minor": 0,
  "metadata": {
    "colab": {
      "provenance": []
    },
    "kernelspec": {
      "name": "python3",
      "display_name": "Python 3"
    },
    "language_info": {
      "name": "python"
    }
  },
  "cells": [
    {
      "cell_type": "code",
      "execution_count": 2,
      "metadata": {
        "id": "JU_VDosGkS22"
      },
      "outputs": [],
      "source": [
        "import numpy as np"
      ]
    },
    {
      "cell_type": "code",
      "source": [],
      "metadata": {
        "id": "884_IFYakWr2"
      },
      "execution_count": 2,
      "outputs": []
    },
    {
      "cell_type": "markdown",
      "source": [
        "1. Extract alternate elements from each row in a 2D NumPy array.  \n",
        "   Input:  \n",
        "   \n",
        "   [[10, 20, 30, 40],  \n",
        "    [50, 60, 70, 80],  \n",
        "    [90, 100, 110, 120]]  \n",
        "   \n",
        "   Output:  \n",
        "   \n",
        "   [[10, 30],  \n",
        "    [50, 70],  \n",
        "    [90, 110]]  \n",
        "   \n",
        "\n",
        "2. Extract the first and last column from a 3D NumPy array.  \n",
        "   Input:  \n",
        "   \n",
        "   [[[1, 2, 3], [4, 5, 6]],  \n",
        "    [[7, 8, 9], [10, 11, 12]]]  \n",
        "   \n",
        "   Output:  \n",
        "   \n",
        "   [[[1, 3],  \n",
        "     [4, 6]],  \n",
        "    [[7, 9],  \n",
        "     [10, 12]]]  \n",
        "   \n",
        "\n",
        "3. Select the second row from each 2D array in a 3D NumPy array.  \n",
        "   Input:  \n",
        "   \n",
        "   [[[5, 6, 7], [8, 9, 10]],  \n",
        "    [[15, 16, 17], [18, 19, 20]],  \n",
        "    [[25, 26, 27], [28, 29, 30]]]  \n",
        "   \n",
        "   Output:  \n",
        "   \n",
        "   [[8, 9, 10],  \n",
        "    [18, 19, 20],  \n",
        "    [28, 29, 30]]  \n",
        "   \n",
        "\n",
        "4. Extract elements from even rows and odd columns in a 2D NumPy array.  \n",
        "   Input:  \n",
        "   \n",
        "   [[1, 2, 3, 4],  \n",
        "    [5, 6, 7, 8],  \n",
        "    [9, 10, 11, 12],  \n",
        "    [13, 14, 15, 16]]  \n",
        "   \n",
        "   Output:  \n",
        "   \n",
        "   [[2, 4],  \n",
        "    [10, 12]]  \n",
        "   \n",
        "\n",
        "5. Extract diagonal elements from each matrix in a 3D array.  \n",
        "   Input:  \n",
        "   \n",
        "   [[[1, 2, 3], [4, 5, 6], [7, 8, 9]],  \n",
        "    [[10, 11, 12], [13, 14, 15], [16, 17, 18]]]  \n",
        "   \n",
        "   Output:  \n",
        "   \n",
        "   [[1, 5, 9],  \n",
        "    [10, 14, 18]]  \n",
        "   \n",
        "\n",
        "6. Reverse the last two columns in a 2D NumPy array.  \n",
        "   Input:  \n",
        "   \n",
        "   [[10, 20, 30, 40],  \n",
        "    [50, 60, 70, 80]]  \n",
        "   \n",
        "   Output:  \n",
        "   \n",
        "   [[10, 20, 40, 30],  \n",
        "    [50, 60, 80, 70]]  \n",
        "   \n",
        "\n",
        "7. Extract elements from the first and last row of a 2D NumPy array.  \n",
        "   Input:  \n",
        "   \n",
        "   [[1, 2, 3],  \n",
        "    [4, 5, 6],  \n",
        "    [7, 8, 9]]  \n",
        "   \n",
        "   Output:  \n",
        "   \n",
        "   [[1, 2, 3],  \n",
        "    [7, 8, 9]]  \n",
        "   \n",
        "\n",
        "8. Extract every second element from a 3D NumPy array.  \n",
        "   Input:  \n",
        "   \n",
        "   [[[10, 20, 30], [40, 50, 60]],  \n",
        "    [[70, 80, 90], [100, 110, 120]]]  \n",
        "   \n",
        "   Output:  \n",
        "   \n",
        "   [[[10, 30],  \n",
        "     [40, 60]],  \n",
        "    [[70, 90],  \n",
        "     [100, 120]]]  \n",
        "   \n",
        "\n",
        "9. Extract elements from the second column of each 2D slice in a 3D array.  \n",
        "   Input:  \n",
        "   \n",
        "   [[[1, 2, 3], [4, 5, 6]],  \n",
        "    [[7, 8, 9], [10, 11, 12]]]  \n",
        "   \n",
        "   Output:  \n",
        "   \n",
        "   [[2, 5],  \n",
        "    [8, 11]]  \n",
        "   \n",
        "\n",
        "10. Swap the first and last row of a 2D NumPy array.  \n",
        "   Input:  \n",
        "   \n",
        "   [[1, 2, 3],  \n",
        "    [4, 5, 6],  \n",
        "    [7, 8, 9]]  \n",
        "   \n",
        "   Output:  \n",
        "   \n",
        "   [[7, 8, 9],  \n",
        "    [4, 5, 6],  \n",
        "    [1, 2, 3]]  \n",
        "   \n",
        "\n",
        "11. Extract elements where the row index is even and the column index is odd.  \n",
        "   Input:  \n",
        "   \n",
        "   [[10, 11, 12, 13],  \n",
        "    [14, 15, 16, 17],  \n",
        "    [18, 19, 20, 21],  \n",
        "    [22, 23, 24, 25]]  \n",
        "   \n",
        "   Output:  \n",
        "   \n",
        "   [[11, 13],  \n",
        "    [19, 21]]  \n",
        "   \n",
        "\n",
        "12. Extract the last two elements of each row in a 2D NumPy array.  \n",
        "   Input:  \n",
        "   \n",
        "   [[1, 2, 3, 4],  \n",
        "    [5, 6, 7, 8],  \n",
        "    [9, 10, 11, 12]]  \n",
        "   \n",
        "   Output:  \n",
        "   \n",
        "   [[3, 4],  \n",
        "    [7, 8],  \n",
        "    [11, 12]]  \n",
        "   \n",
        "\n",
        "13. Extract the first and last row of each 2D matrix in a 3D NumPy array.  \n",
        "   Input:  \n",
        "   \n",
        "   [[[1, 2, 3], [4, 5, 6], [7, 8, 9]],  \n",
        "    [[10, 11, 12], [13, 14, 15], [16, 17, 18]]]  \n",
        "   \n",
        "   Output:  \n",
        "   \n",
        "   [[[1, 2, 3],  \n",
        "     [7, 8, 9]],  \n",
        "    [[10, 11, 12],  \n",
        "     [16, 17, 18]]]  \n",
        "   \n",
        "\n",
        "14. Extract elements from all 3D matrices where both row and column indices are odd.  \n",
        "   Input:  \n",
        "   \n",
        "   [[[1, 2, 3, 4],  \n",
        "     [5, 6, 7, 8],  \n",
        "     [9, 10, 11, 12],  \n",
        "     [13, 14, 15, 16]]]  \n",
        "   \n",
        "   Output:  \n",
        "   \n",
        "   [[6, 8],  \n",
        "    [14, 16]]  \n",
        "   \n",
        "\n",
        "15. Extract elements from the first column and last row in each 2D matrix of a 3D array.  \n",
        "   Input:  \n",
        "   \n",
        "   [[[1, 2, 3], [4, 5, 6], [7, 8, 9]],  \n",
        "    [[10, 11, 12], [13, 14, 15], [16, 17, 18]]]  \n",
        "   \n",
        "   Output:  \n",
        "   \n",
        "   [[1, 7],  \n",
        "    [10, 16]]  \n",
        "   "
      ],
      "metadata": {
        "id": "HrqFGLO9kXoR"
      }
    },
    {
      "cell_type": "code",
      "source": [
        "# 1.# Extract alternate elements from each row in a 2D NumPy array.\n",
        "# Input:\n",
        "# Output:\n",
        "\n",
        "# [[10, 30],\n",
        "# [50, 70],\n",
        "# [90, 110]]\n",
        "\n",
        "arr=np.array([[10, 20, 30, 40],\n",
        "[50, 60, 70, 80],\n",
        "[90, 100, 110, 120]])\n",
        "arr[::,::2]\n",
        "\n"
      ],
      "metadata": {
        "colab": {
          "base_uri": "https://localhost:8080/"
        },
        "id": "U1XOJkdZkYvZ",
        "outputId": "dba1bbe2-8457-4945-b462-f1ca1411ec27"
      },
      "execution_count": 3,
      "outputs": [
        {
          "output_type": "execute_result",
          "data": {
            "text/plain": [
              "array([[ 10,  30],\n",
              "       [ 50,  70],\n",
              "       [ 90, 110]])"
            ]
          },
          "metadata": {},
          "execution_count": 3
        }
      ]
    },
    {
      "cell_type": "code",
      "source": [
        "# 2. Extract the first and last column from a 3D NumPy array.\n",
        "#    Input:\n",
        "\n",
        "#    [[[1, 2, 3], [4, 5, 6]],\n",
        "#     [[7, 8, 9], [10, 11, 12]]]\n",
        "\n",
        "#    Output:\n",
        "\n",
        "#    [[[1, 3],\n",
        "#      [4, 6]],\n",
        "#     [[7, 9],\n",
        "#      [10, 12]]]\n",
        "\n",
        "arr=np.array([[[1, 2, 3], [4, 5, 6]],\n",
        "    [[7, 8, 9], [10, 11, 12]]])\n",
        "print(arr)\n",
        "arr[:,::,::2]"
      ],
      "metadata": {
        "colab": {
          "base_uri": "https://localhost:8080/"
        },
        "id": "ilJkzh9pkqtW",
        "outputId": "6b19325e-220a-4278-e542-71b95c4b0412"
      },
      "execution_count": 4,
      "outputs": [
        {
          "output_type": "stream",
          "name": "stdout",
          "text": [
            "[[[ 1  2  3]\n",
            "  [ 4  5  6]]\n",
            "\n",
            " [[ 7  8  9]\n",
            "  [10 11 12]]]\n"
          ]
        },
        {
          "output_type": "execute_result",
          "data": {
            "text/plain": [
              "array([[[ 1,  3],\n",
              "        [ 4,  6]],\n",
              "\n",
              "       [[ 7,  9],\n",
              "        [10, 12]]])"
            ]
          },
          "metadata": {},
          "execution_count": 4
        }
      ]
    },
    {
      "cell_type": "code",
      "source": [
        "# 3. Select the second row from each 2D array in a 3D NumPy array.\n",
        "#    Input:\n",
        "\n",
        "\n",
        "\n",
        "#    Output:\n",
        "\n",
        "#    [[8, 9, 10],\n",
        "#     [18, 19, 20],\n",
        "#     [28, 29, 30]]\n",
        "arr=np.array([[[5, 6, 7], [8, 9, 10]],\n",
        "    [[15, 16, 17], [18, 19, 20]],\n",
        "    [[25, 26, 27], [28, 29, 30]]]  )\n",
        "print(arr)\n",
        "arr[:,1,:]"
      ],
      "metadata": {
        "colab": {
          "base_uri": "https://localhost:8080/"
        },
        "id": "IP-gFFYalet1",
        "outputId": "4cd33b7b-6a77-4109-975e-fc7b544337ee"
      },
      "execution_count": 5,
      "outputs": [
        {
          "output_type": "stream",
          "name": "stdout",
          "text": [
            "[[[ 5  6  7]\n",
            "  [ 8  9 10]]\n",
            "\n",
            " [[15 16 17]\n",
            "  [18 19 20]]\n",
            "\n",
            " [[25 26 27]\n",
            "  [28 29 30]]]\n"
          ]
        },
        {
          "output_type": "execute_result",
          "data": {
            "text/plain": [
              "array([[ 8,  9, 10],\n",
              "       [18, 19, 20],\n",
              "       [28, 29, 30]])"
            ]
          },
          "metadata": {},
          "execution_count": 5
        }
      ]
    },
    {
      "cell_type": "code",
      "source": [],
      "metadata": {
        "id": "pgNuvf0hm1gz"
      },
      "execution_count": 5,
      "outputs": []
    },
    {
      "cell_type": "code",
      "source": [
        "# 4. Extract elements from even rows and odd columns in a 2D NumPy array.\n",
        "#    Input:\n",
        "\n",
        "#    [[1, 2, 3, 4],\n",
        "#     [5, 6, 7, 8],\n",
        "#     [9, 10, 11, 12],\n",
        "#     [13, 14, 15, 16]]\n",
        "\n",
        "#    Output:\n",
        "\n",
        "#    [[2, 4],\n",
        "#     [10, 12]]\n",
        "arr=np.array([[1, 2, 3, 4],\n",
        "    [5, 6, 7, 8],\n",
        "    [9, 10, 11, 12],\n",
        "    [13, 14, 15, 16]])\n",
        "print(arr)\n",
        "arr[::2,1::2]"
      ],
      "metadata": {
        "colab": {
          "base_uri": "https://localhost:8080/"
        },
        "id": "-fI7PfPomEtf",
        "outputId": "d82f3138-0d3e-414d-91a3-1a9ffa9c08f8"
      },
      "execution_count": 6,
      "outputs": [
        {
          "output_type": "stream",
          "name": "stdout",
          "text": [
            "[[ 1  2  3  4]\n",
            " [ 5  6  7  8]\n",
            " [ 9 10 11 12]\n",
            " [13 14 15 16]]\n"
          ]
        },
        {
          "output_type": "execute_result",
          "data": {
            "text/plain": [
              "array([[ 2,  4],\n",
              "       [10, 12]])"
            ]
          },
          "metadata": {},
          "execution_count": 6
        }
      ]
    },
    {
      "cell_type": "code",
      "source": [
        "# 5. Extract diagonal elements from each matrix in a 3D array.\n",
        "#    Input:\n",
        "\n",
        "arr=np.array([[[1, 2, 3], [4, 5, 6], [7, 8, 9]],\n",
        "    [[10, 11, 12], [13, 14, 15], [16, 17, 18]]]  )\n",
        "\n",
        "#    Output:\n",
        "\n",
        "#    [[1, 5, 9],\n",
        "#     [10, 14, 18]]\n",
        "print(arr)\n",
        "for i in arr:\n",
        "  print(np.diagonal(i))\n"
      ],
      "metadata": {
        "colab": {
          "base_uri": "https://localhost:8080/"
        },
        "id": "xnk-_-LBmjon",
        "outputId": "f8be71ea-cc23-4810-cdd8-600ea581653c"
      },
      "execution_count": 22,
      "outputs": [
        {
          "output_type": "stream",
          "name": "stdout",
          "text": [
            "[[[ 1  2  3]\n",
            "  [ 4  5  6]\n",
            "  [ 7  8  9]]\n",
            "\n",
            " [[10 11 12]\n",
            "  [13 14 15]\n",
            "  [16 17 18]]]\n",
            "[1 5 9]\n",
            "[10 14 18]\n"
          ]
        }
      ]
    },
    {
      "cell_type": "code",
      "source": [
        "# 6. Reverse the last two columns in a 2D NumPy array.\n",
        "#    Input:\n",
        "\n",
        "arr=np.array([[10, 20, 30, 40],\n",
        "    [50, 60, 70, 80]] )\n",
        "print(arr)\n",
        "\n",
        "\n",
        "#    Output:\n",
        "\n",
        "#    [[10, 20, 40, 30],\n",
        "#     [50, 60, 80, 70]]\n",
        "\n",
        "arr[:,-2:]=arr[:,-1:-3:-1]\n",
        "arr"
      ],
      "metadata": {
        "colab": {
          "base_uri": "https://localhost:8080/"
        },
        "id": "2S-JbiqTnXR3",
        "outputId": "6b25e15b-b6ea-4a34-dabc-73d5ab5ac0fc"
      },
      "execution_count": 25,
      "outputs": [
        {
          "output_type": "stream",
          "name": "stdout",
          "text": [
            "[[10 20 30 40]\n",
            " [50 60 70 80]]\n"
          ]
        },
        {
          "output_type": "execute_result",
          "data": {
            "text/plain": [
              "array([[10, 20, 40, 30],\n",
              "       [50, 60, 80, 70]])"
            ]
          },
          "metadata": {},
          "execution_count": 25
        }
      ]
    },
    {
      "cell_type": "code",
      "source": [
        "# 7. Extract elements from the first and last row of a 2D NumPy array.\n",
        "#    Input:\n",
        "\n",
        "arr=np.array([[1, 2, 3],\n",
        "    [4, 5, 6],\n",
        "    [7, 8, 9]])\n",
        "\n",
        "  #  Output:\n",
        "\n",
        "  #  [[1, 2, 3],\n",
        "  #   [7, 8, 9]]\n",
        "print(arr)\n",
        "arr[::2,:]"
      ],
      "metadata": {
        "colab": {
          "base_uri": "https://localhost:8080/"
        },
        "id": "6-cUYRVkbkPF",
        "outputId": "bf1d1faf-68a3-4549-d667-b60307ba37b9"
      },
      "execution_count": 9,
      "outputs": [
        {
          "output_type": "stream",
          "name": "stdout",
          "text": [
            "[[1 2 3]\n",
            " [4 5 6]\n",
            " [7 8 9]]\n"
          ]
        },
        {
          "output_type": "execute_result",
          "data": {
            "text/plain": [
              "array([[1, 2, 3],\n",
              "       [7, 8, 9]])"
            ]
          },
          "metadata": {},
          "execution_count": 9
        }
      ]
    },
    {
      "cell_type": "code",
      "source": [
        "# 8. Extract every second element from a 3D NumPy array.\n",
        "#    Input:\n",
        "\n",
        "arr=np.array([[[10, 20, 30], [40, 50, 60]],\n",
        "    [[70, 80, 90], [100, 110, 120]]]  )\n",
        "print(arr)\n",
        "arr[:,:,::2]\n",
        "\n",
        "  #  Output:\n",
        "\n",
        "  #  [[[10, 30],\n",
        "  #    [40, 60]],\n",
        "  #   [[70, 90],\n",
        "  #    [100, 120]]]"
      ],
      "metadata": {
        "colab": {
          "base_uri": "https://localhost:8080/"
        },
        "id": "Dt9kzN0ZcJR1",
        "outputId": "ece339dd-224a-4353-d8af-9eaec8267767"
      },
      "execution_count": 10,
      "outputs": [
        {
          "output_type": "stream",
          "name": "stdout",
          "text": [
            "[[[ 10  20  30]\n",
            "  [ 40  50  60]]\n",
            "\n",
            " [[ 70  80  90]\n",
            "  [100 110 120]]]\n"
          ]
        },
        {
          "output_type": "execute_result",
          "data": {
            "text/plain": [
              "array([[[ 10,  30],\n",
              "        [ 40,  60]],\n",
              "\n",
              "       [[ 70,  90],\n",
              "        [100, 120]]])"
            ]
          },
          "metadata": {},
          "execution_count": 10
        }
      ]
    },
    {
      "cell_type": "code",
      "source": [
        "# 9. Extract elements from the second column of each 2D slice in a 3D array.\n",
        "#    Input:\n",
        "\n",
        "arr=np.array([[[1, 2, 3], [4, 5, 6]],\n",
        "    [[7, 8, 9], [10, 11, 12]]])\n",
        "\n",
        "#    Output:\n",
        "\n",
        "#    [[2, 5],\n",
        "#     [8, 11]]\n",
        "print(arr)\n",
        "arr[:,:,1]"
      ],
      "metadata": {
        "colab": {
          "base_uri": "https://localhost:8080/"
        },
        "id": "h91Lv2YQcX7W",
        "outputId": "c8d9873a-100e-4ff9-eff7-a9914bd7373e"
      },
      "execution_count": 11,
      "outputs": [
        {
          "output_type": "stream",
          "name": "stdout",
          "text": [
            "[[[ 1  2  3]\n",
            "  [ 4  5  6]]\n",
            "\n",
            " [[ 7  8  9]\n",
            "  [10 11 12]]]\n"
          ]
        },
        {
          "output_type": "execute_result",
          "data": {
            "text/plain": [
              "array([[ 2,  5],\n",
              "       [ 8, 11]])"
            ]
          },
          "metadata": {},
          "execution_count": 11
        }
      ]
    },
    {
      "cell_type": "code",
      "source": [
        "# 10. Swap the first and last row of a 2D NumPy array.\n",
        "#    Input:\n",
        "\n",
        "arr=np.array([[1, 2, 3],\n",
        "    [4, 5, 6],\n",
        "    [7, 8, 9]])\n",
        "\n",
        "  #  Output:\n",
        "\n",
        "  #  [[7, 8, 9],\n",
        "  #   [4, 5, 6],\n",
        "  #   [1, 2, 3]]\n",
        "\n",
        "temp=arr[0,:]\n",
        "arr[0,:]=arr[2,:]\n",
        "arr[2,:]=temp\n",
        "arr"
      ],
      "metadata": {
        "id": "_lisHyUycy6i",
        "colab": {
          "base_uri": "https://localhost:8080/"
        },
        "outputId": "3bc98935-c6be-402e-8082-9f329cb1e8c2"
      },
      "execution_count": 13,
      "outputs": [
        {
          "output_type": "execute_result",
          "data": {
            "text/plain": [
              "array([[7, 8, 9],\n",
              "       [4, 5, 6],\n",
              "       [7, 8, 9]])"
            ]
          },
          "metadata": {},
          "execution_count": 13
        }
      ]
    },
    {
      "cell_type": "code",
      "source": [
        "# 11. Extract elements where the row index is even and the column index is odd.\n",
        "#    Input:\n",
        "\n",
        "arr=np.array([[10, 11, 12, 13],\n",
        "    [14, 15, 16, 17],\n",
        "    [18, 19, 20, 21],\n",
        "    [22, 23, 24, 25]]  )\n",
        "\n",
        "  #  Output:\n",
        "\n",
        "  #  [[11, 13],\n",
        "  #   [19, 21]]\n",
        "arr[::2,1::2]"
      ],
      "metadata": {
        "colab": {
          "base_uri": "https://localhost:8080/"
        },
        "id": "nI8pnghKmoe9",
        "outputId": "09fed1d5-c588-4980-abc9-64abb7706076"
      },
      "execution_count": 14,
      "outputs": [
        {
          "output_type": "execute_result",
          "data": {
            "text/plain": [
              "array([[11, 13],\n",
              "       [19, 21]])"
            ]
          },
          "metadata": {},
          "execution_count": 14
        }
      ]
    },
    {
      "cell_type": "code",
      "source": [
        "# 12. Extract the last two elements of each row in a 2D NumPy array.\n",
        "  #  Input:\n",
        "\n",
        "arr=np.array([[1, 2, 3, 4],\n",
        "    [5, 6, 7, 8],\n",
        "    [9, 10, 11, 12]] )\n",
        "\n",
        "  #  Output:\n",
        "\n",
        "  #  [[3, 4],\n",
        "  #   [7, 8],\n",
        "  #   [11, 12]]\n",
        "arr[:,-2:]"
      ],
      "metadata": {
        "colab": {
          "base_uri": "https://localhost:8080/"
        },
        "id": "PKpSkdhlnR2V",
        "outputId": "5a26f975-1400-4c64-a410-77e5ac80d84f"
      },
      "execution_count": 15,
      "outputs": [
        {
          "output_type": "execute_result",
          "data": {
            "text/plain": [
              "array([[ 3,  4],\n",
              "       [ 7,  8],\n",
              "       [11, 12]])"
            ]
          },
          "metadata": {},
          "execution_count": 15
        }
      ]
    },
    {
      "cell_type": "code",
      "source": [
        "# 13. Extract the first and last row of each 2D matrix in a 3D NumPy array.\n",
        "#    Input:\n",
        "arr=np.array([[[1, 2, 3], [4, 5, 6], [7, 8, 9]],\n",
        "    [[10, 11, 12], [13, 14, 15], [16, 17, 18]]] )\n",
        "print(arr)\n",
        "\n",
        "  #  Output:\n",
        "\n",
        "  #  [[[1, 2, 3],\n",
        "  #    [7, 8, 9]],\n",
        "  #   [[10, 11, 12],\n",
        "  #    [16, 17, 18]]]\n",
        "arr[:,::2,:]"
      ],
      "metadata": {
        "colab": {
          "base_uri": "https://localhost:8080/"
        },
        "id": "3abJCqWUnkj6",
        "outputId": "8b154184-f141-4690-9dc9-7b98b6ad7119"
      },
      "execution_count": 18,
      "outputs": [
        {
          "output_type": "stream",
          "name": "stdout",
          "text": [
            "[[[ 1  2  3]\n",
            "  [ 4  5  6]\n",
            "  [ 7  8  9]]\n",
            "\n",
            " [[10 11 12]\n",
            "  [13 14 15]\n",
            "  [16 17 18]]]\n"
          ]
        },
        {
          "output_type": "execute_result",
          "data": {
            "text/plain": [
              "array([[[ 1,  2,  3],\n",
              "        [ 7,  8,  9]],\n",
              "\n",
              "       [[10, 11, 12],\n",
              "        [16, 17, 18]]])"
            ]
          },
          "metadata": {},
          "execution_count": 18
        }
      ]
    },
    {
      "cell_type": "code",
      "source": [
        "# 15. Extract elements from the first column and last row in each 2D matrix of a 3D array.\n",
        "#    Input:\n",
        "\n",
        "arr=np.array([[[1, 2, 3], [4, 5, 6], [7, 8, 9]],\n",
        "    [[10, 11, 12], [13, 14, 15], [16, 17, 18]]]  )\n",
        "\n",
        "  #  Output:\n",
        "\n",
        "  #  [[1, 7],\n",
        "  #   [10, 16]]\n",
        "print(arr)\n",
        "arr[:,::2,0]"
      ],
      "metadata": {
        "colab": {
          "base_uri": "https://localhost:8080/"
        },
        "id": "ZJG-jSftn4Me",
        "outputId": "6c09d49e-dcd7-49b7-920a-1e4407c68c48"
      },
      "execution_count": 21,
      "outputs": [
        {
          "output_type": "stream",
          "name": "stdout",
          "text": [
            "[[[ 1  2  3]\n",
            "  [ 4  5  6]\n",
            "  [ 7  8  9]]\n",
            "\n",
            " [[10 11 12]\n",
            "  [13 14 15]\n",
            "  [16 17 18]]]\n"
          ]
        },
        {
          "output_type": "execute_result",
          "data": {
            "text/plain": [
              "array([[ 1,  7],\n",
              "       [10, 16]])"
            ]
          },
          "metadata": {},
          "execution_count": 21
        }
      ]
    },
    {
      "cell_type": "code",
      "source": [],
      "metadata": {
        "id": "pZU1B-hyo2zb"
      },
      "execution_count": null,
      "outputs": []
    }
  ]
}