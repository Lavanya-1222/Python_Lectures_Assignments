{
 "cells": [
  {
   "cell_type": "code",
   "execution_count": 1,
   "id": "d98714c7-6ecc-4600-a2ed-801dd1f2c325",
   "metadata": {},
   "outputs": [],
   "source": [
    "import pandas as pd\n",
    "import numpy as np"
   ]
  },
  {
   "cell_type": "code",
   "execution_count": null,
   "id": "a9bfc812-d70f-48cb-8f94-47e0f8186554",
   "metadata": {},
   "outputs": [],
   "source": [
    "import mysql.connector as slcon\n",
    "conn=slcon.connect(host='localhost',user='root',password='lava',database='fictinal')\n",
    "print(conn)\n",
    "\n"
   ]
  },
  {
   "cell_type": "code",
   "execution_count": null,
   "id": "220818ed-c455-4d26-90ee-02c5ea3194e8",
   "metadata": {},
   "outputs": [],
   "source": [
    "# pip install --upgrade mysql-connector-python\n"
   ]
  },
  {
   "cell_type": "code",
   "execution_count": null,
   "id": "edfbb88c-11a8-4fec-96b5-c1c9c7949678",
   "metadata": {},
   "outputs": [],
   "source": [
    "# import mysql.connector\n",
    "# conn = mysql.connector.connect(\n",
    "#         host=\"localhost\",\n",
    "#         user=\"root\",\n",
    "#         password=\"lava\",\n",
    "#         database=\"\",\n",
    "#         auth_plugin='mysql_native_password'\n",
    "# )\n",
    "# print(conn)\n"
   ]
  },
  {
   "cell_type": "code",
   "execution_count": null,
   "id": "099df078-e2d9-43ac-a775-4ec58733ccc1",
   "metadata": {},
   "outputs": [],
   "source": [
    "pnt=conn.cursor(buffered=True)"
   ]
  },
  {
   "cell_type": "code",
   "execution_count": null,
   "id": "88124d33-86b3-4600-9c13-999d9cb749fc",
   "metadata": {},
   "outputs": [],
   "source": [
    "pnt.execute('create database fictinal')"
   ]
  },
  {
   "cell_type": "code",
   "execution_count": null,
   "id": "e4ce04f9-1339-4f03-8b72-f38f67b5c493",
   "metadata": {},
   "outputs": [],
   "source": [
    "pnt.execute('use fictinal')"
   ]
  },
  {
   "cell_type": "code",
   "execution_count": null,
   "id": "eebbe9de-cdb3-4a02-8067-4326fe8a83cc",
   "metadata": {
    "jupyter": {
     "source_hidden": true
    },
    "scrolled": true
   },
   "outputs": [],
   "source": [
    "pnt.execute(\"\"\"CREATE TABLE customer (\n",
    "    customer_id VARCHAR(20),\n",
    "    name VARCHAR(100),\n",
    "    age INT,\n",
    "    gender VARCHAR(10),\n",
    "    country VARCHAR(50),\n",
    "    product VARCHAR(100),\n",
    "    rating INT,\n",
    "    feedback TEXT,\n",
    "    purchase_date DATE\n",
    ")\"\"\")\n"
   ]
  },
  {
   "cell_type": "code",
   "execution_count": null,
   "id": "0e5cf37a-ecf2-4b34-98db-2b8d146ad8ee",
   "metadata": {},
   "outputs": [],
   "source": []
  },
  {
   "cell_type": "code",
   "execution_count": null,
   "id": "c6381d83-4fee-46f4-98a5-34239c173810",
   "metadata": {},
   "outputs": [],
   "source": []
  }
 ],
 "metadata": {
  "kernelspec": {
   "display_name": "Python 3 (ipykernel)",
   "language": "python",
   "name": "python3"
  },
  "language_info": {
   "codemirror_mode": {
    "name": "ipython",
    "version": 3
   },
   "file_extension": ".py",
   "mimetype": "text/x-python",
   "name": "python",
   "nbconvert_exporter": "python",
   "pygments_lexer": "ipython3",
   "version": "3.13.0"
  }
 },
 "nbformat": 4,
 "nbformat_minor": 5
}
