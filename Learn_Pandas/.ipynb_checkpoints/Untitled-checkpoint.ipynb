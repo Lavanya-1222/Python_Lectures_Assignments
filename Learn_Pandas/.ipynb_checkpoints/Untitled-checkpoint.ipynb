{
 "cells": [
  {
   "cell_type": "code",
   "execution_count": 1,
   "id": "b786cac9-2286-4960-8b3e-866d4f05f039",
   "metadata": {},
   "outputs": [],
   "source": [
    "import pandas as pd"
   ]
  },
  {
   "cell_type": "markdown",
   "id": "15913045-64fd-4e97-b272-16259fab74bd",
   "metadata": {},
   "source": [
    "# On the given 5 data sets perform these analysis"
   ]
  },
  {
   "cell_type": "markdown",
   "id": "45862a63-a288-4e53-a00d-ff8e5b51665c",
   "metadata": {},
   "source": [
    "# 1. Basic Information and Exploration\n",
    "- What are the first and last 5 rows of the dataset?\n",
    "\n",
    "- What is the summary statistics of the numerical columns (mean, std, min, max, etc.)?\n",
    "- Are there any missing values in the dataset? If so, how many in each column?\n",
    "\n",
    "# 2. Data Cleaning\n",
    "- Are there any duplicate rows in the DataFrame?\n",
    "- How would you handle missing data? Should you drop, fill, or leave them as is?\n",
    "- How would you handle incorrect or invalid data entries (e.g., incorrect dates or non-numeric values)?\n",
    "- How can you convert a column into a different data type (e.g., from string to datetime)?\n",
    "- How would you deal with duplicate rows in the DataFrame?\n",
    "\n",
    "# 3. Data Transformation\n",
    "- How can you create new columns derived from existing ones (e.g., by performing arithmetic operations)?\n",
    "- How can you filter rows based on a specific condition in a column (e.g., only rows where salary > 50000)?\n",
    "- How can you replace specific values in a column (e.g., replacing 'NaN' with a default value)?\n",
    "- How can you apply a custom function to each value in a column?\n",
    "\n",
    "# 4. Data Aggregation\n",
    "- How can you calculate summary statistics like sum, mean, or count for a specific column or group of columns?\n",
    "- How would you group the data by a particular column (e.g., by department) and calculate aggregated values (sum, mean)?\n",
    "\n",
    "# 5. Data Transformation\n",
    "- Perform split and merge\n",
    "- Pivot and unpivot columns  \n",
    "\n",
    "# 6. Data Analysis\t\t\n",
    "- perform masking\n",
    "- groupby some columns\n",
    "- create one new conditonal column  \n",
    "\n",
    "# 7. Exporting and Saving Data\n",
    "- How would you save the DataFrame to a CSV file or Excel file?\n",
    "- How can you save the DataFrame with specific columns or without the index?\n",
    "- How can you export a DataFrame to a different format (e.g., JSON, HDF5)?\n",
    "- How would you import data from an external file into a DataFrame?"
   ]
  },
  {
   "cell_type": "code",
   "execution_count": 2,
   "id": "09514d60-19be-4907-99af-55294ee65bee",
   "metadata": {},
   "outputs": [],
   "source": [
    "# 1. Student Grades Dataset  \n",
    "\n",
    "students = {\n",
    "    \"Student\": [\n",
    "        \"Alice Johnson\", \"Bob Smith\", \"Charlie Lee\", \"Diana White\", \"Ethan Brown\",\n",
    "        \"Fiona Green\", \"George Davis\", \"Hannah Taylor\", \"Ian Scott\", \"Jack Moore\",\n",
    "        \"Kelly Fox\", \"Liam Young\", \"Mia Hill\", \"Noah Clark\", \"Olivia Allen\"\n",
    "    ],\n",
    "    \"Grade\": [90, 85, 88, 92, 76, 95, 89, 78, 84, 91, 87, 93, 85, 90, 88],\n",
    "    \"Course\": [\"Math\", \"Science\", \"History\", \"Math\", \"Science\", \"History\", \"Math\", \"History\", \"Math\", \"Science\", \"History\", \"Math\", \"Science\", \"History\", \"Math\"]\n",
    "}\n",
    "\n",
    "stud=pd.DataFrame(students)"
   ]
  },
  {
   "cell_type": "markdown",
   "id": "c9900c63-4669-4480-bf58-8003260022cc",
   "metadata": {},
   "source": [
    "### 1. Basic Information and Exploration¶\n"
   ]
  },
  {
   "cell_type": "code",
   "execution_count": 3,
   "id": "eee70a48-fabc-4765-afe1-18f1da0e8014",
   "metadata": {},
   "outputs": [
    {
     "name": "stdout",
     "output_type": "stream",
     "text": [
      "         Student  Grade   Course\n",
      "0  Alice Johnson     90     Math\n",
      "1      Bob Smith     85  Science\n",
      "2    Charlie Lee     88  History\n",
      "3    Diana White     92     Math\n",
      "4    Ethan Brown     76  Science\n"
     ]
    },
    {
     "data": {
      "text/html": [
       "<div>\n",
       "<style scoped>\n",
       "    .dataframe tbody tr th:only-of-type {\n",
       "        vertical-align: middle;\n",
       "    }\n",
       "\n",
       "    .dataframe tbody tr th {\n",
       "        vertical-align: top;\n",
       "    }\n",
       "\n",
       "    .dataframe thead th {\n",
       "        text-align: right;\n",
       "    }\n",
       "</style>\n",
       "<table border=\"1\" class=\"dataframe\">\n",
       "  <thead>\n",
       "    <tr style=\"text-align: right;\">\n",
       "      <th></th>\n",
       "      <th>Student</th>\n",
       "      <th>Grade</th>\n",
       "      <th>Course</th>\n",
       "    </tr>\n",
       "  </thead>\n",
       "  <tbody>\n",
       "    <tr>\n",
       "      <th>10</th>\n",
       "      <td>Kelly Fox</td>\n",
       "      <td>87</td>\n",
       "      <td>History</td>\n",
       "    </tr>\n",
       "    <tr>\n",
       "      <th>11</th>\n",
       "      <td>Liam Young</td>\n",
       "      <td>93</td>\n",
       "      <td>Math</td>\n",
       "    </tr>\n",
       "    <tr>\n",
       "      <th>12</th>\n",
       "      <td>Mia Hill</td>\n",
       "      <td>85</td>\n",
       "      <td>Science</td>\n",
       "    </tr>\n",
       "    <tr>\n",
       "      <th>13</th>\n",
       "      <td>Noah Clark</td>\n",
       "      <td>90</td>\n",
       "      <td>History</td>\n",
       "    </tr>\n",
       "    <tr>\n",
       "      <th>14</th>\n",
       "      <td>Olivia Allen</td>\n",
       "      <td>88</td>\n",
       "      <td>Math</td>\n",
       "    </tr>\n",
       "  </tbody>\n",
       "</table>\n",
       "</div>"
      ],
      "text/plain": [
       "         Student  Grade   Course\n",
       "10     Kelly Fox     87  History\n",
       "11    Liam Young     93     Math\n",
       "12      Mia Hill     85  Science\n",
       "13    Noah Clark     90  History\n",
       "14  Olivia Allen     88     Math"
      ]
     },
     "execution_count": 3,
     "metadata": {},
     "output_type": "execute_result"
    }
   ],
   "source": [
    "# What are the first and last 5 rows of the dataset?\n",
    "print(stud.head())\n",
    "stud.tail()"
   ]
  },
  {
   "cell_type": "code",
   "execution_count": 4,
   "id": "fe36e4e9-e0cd-4ba7-a6d2-e3d86a042d9d",
   "metadata": {},
   "outputs": [
    {
     "name": "stdout",
     "output_type": "stream",
     "text": [
      "<class 'pandas.core.frame.DataFrame'>\n",
      "RangeIndex: 15 entries, 0 to 14\n",
      "Data columns (total 3 columns):\n",
      " #   Column   Non-Null Count  Dtype \n",
      "---  ------   --------------  ----- \n",
      " 0   Student  15 non-null     object\n",
      " 1   Grade    15 non-null     int64 \n",
      " 2   Course   15 non-null     object\n",
      "dtypes: int64(1), object(2)\n",
      "memory usage: 492.0+ bytes\n"
     ]
    }
   ],
   "source": [
    "# What data types of each \n",
    "stud.info()"
   ]
  },
  {
   "cell_type": "code",
   "execution_count": 5,
   "id": "21cc9dff-c318-4a4b-93f1-3f9a6b7dc3ef",
   "metadata": {},
   "outputs": [
    {
     "data": {
      "text/html": [
       "<div>\n",
       "<style scoped>\n",
       "    .dataframe tbody tr th:only-of-type {\n",
       "        vertical-align: middle;\n",
       "    }\n",
       "\n",
       "    .dataframe tbody tr th {\n",
       "        vertical-align: top;\n",
       "    }\n",
       "\n",
       "    .dataframe thead th {\n",
       "        text-align: right;\n",
       "    }\n",
       "</style>\n",
       "<table border=\"1\" class=\"dataframe\">\n",
       "  <thead>\n",
       "    <tr style=\"text-align: right;\">\n",
       "      <th></th>\n",
       "      <th>Grade</th>\n",
       "    </tr>\n",
       "  </thead>\n",
       "  <tbody>\n",
       "    <tr>\n",
       "      <th>count</th>\n",
       "      <td>15.000000</td>\n",
       "    </tr>\n",
       "    <tr>\n",
       "      <th>mean</th>\n",
       "      <td>87.400000</td>\n",
       "    </tr>\n",
       "    <tr>\n",
       "      <th>std</th>\n",
       "      <td>5.220837</td>\n",
       "    </tr>\n",
       "    <tr>\n",
       "      <th>min</th>\n",
       "      <td>76.000000</td>\n",
       "    </tr>\n",
       "    <tr>\n",
       "      <th>25%</th>\n",
       "      <td>85.000000</td>\n",
       "    </tr>\n",
       "    <tr>\n",
       "      <th>50%</th>\n",
       "      <td>88.000000</td>\n",
       "    </tr>\n",
       "    <tr>\n",
       "      <th>75%</th>\n",
       "      <td>90.500000</td>\n",
       "    </tr>\n",
       "    <tr>\n",
       "      <th>max</th>\n",
       "      <td>95.000000</td>\n",
       "    </tr>\n",
       "  </tbody>\n",
       "</table>\n",
       "</div>"
      ],
      "text/plain": [
       "           Grade\n",
       "count  15.000000\n",
       "mean   87.400000\n",
       "std     5.220837\n",
       "min    76.000000\n",
       "25%    85.000000\n",
       "50%    88.000000\n",
       "75%    90.500000\n",
       "max    95.000000"
      ]
     },
     "execution_count": 5,
     "metadata": {},
     "output_type": "execute_result"
    }
   ],
   "source": [
    "# What is the summary statistics of the numerical columns (mean, std, min, max, etc.)?\n",
    "stud.describe()"
   ]
  },
  {
   "cell_type": "code",
   "execution_count": 6,
   "id": "78e62221-df68-4237-9972-e9e6c12692f3",
   "metadata": {},
   "outputs": [
    {
     "data": {
      "text/plain": [
       "Student    0\n",
       "Grade      0\n",
       "Course     0\n",
       "dtype: int64"
      ]
     },
     "execution_count": 6,
     "metadata": {},
     "output_type": "execute_result"
    }
   ],
   "source": [
    "# Are there any missing values in the dataset? If so, how many in each column?\n",
    "stud.isnull().sum()"
   ]
  },
  {
   "cell_type": "markdown",
   "id": "83f37f69-4134-4ea0-a84a-5f3c863e42a6",
   "metadata": {},
   "source": [
    "### 2. Data Cleaning"
   ]
  },
  {
   "cell_type": "code",
   "execution_count": 7,
   "id": "67906f64-522c-4f8e-887e-f3ca75b16050",
   "metadata": {},
   "outputs": [
    {
     "data": {
      "text/plain": [
       "np.int64(0)"
      ]
     },
     "execution_count": 7,
     "metadata": {},
     "output_type": "execute_result"
    }
   ],
   "source": [
    "# Are there any duplicate rows in the DataFrame?\n",
    "stud.duplicated().sum()\n",
    "\n",
    "# How would you handle incorrect or invalid data entries (e.g., incorrect dates or non-numeric values)?\n",
    "# How can you convert a column into a different data type (e.g., from string to datetime)?\n",
    "# How would you deal with duplicate rows in the DataFrame?"
   ]
  },
  {
   "cell_type": "code",
   "execution_count": 8,
   "id": "66f9323d-5ba7-4cf3-842f-a2b7732d12c1",
   "metadata": {},
   "outputs": [],
   "source": [
    "# How would you handle missing data? Should you drop, fill, or leave them as is?\n",
    "# there is no missing values in Dataset"
   ]
  },
  {
   "cell_type": "code",
   "execution_count": 9,
   "id": "602622a1-89ae-483a-9be9-acfcb576ad68",
   "metadata": {},
   "outputs": [],
   "source": [
    "# - How would you handle incorrect or invalid data entries (e.g., incorrect dates or non-numeric values)?\n",
    "# No incorrect dt is found\n",
    "# - How can you convert a column into a different data type (e.g., from string to datetime)?\n",
    "# with help of astype or to_datetime\n",
    "# - How would you deal with duplicate rows in the DataFrame?\n",
    "# just use drop_duplecates()"
   ]
  },
  {
   "cell_type": "markdown",
   "id": "d259781c-a654-4aa5-9ba7-8d310f105ee2",
   "metadata": {},
   "source": [
    "### 3. Data Transformation"
   ]
  },
  {
   "cell_type": "code",
   "execution_count": 10,
   "id": "23a7691d-6e1e-4101-8103-d965a7e4c08b",
   "metadata": {},
   "outputs": [],
   "source": [
    "# How can you create new columns derived from existing ones (e.g., by performing arithmetic operations)?\n",
    "# How can you apply a custom function to each value in a column?\n",
    "def gradestatus(x):\n",
    "    if x in range(90,101):\n",
    "        return 'Distinct'\n",
    "    elif x in range(80,90):\n",
    "        return 'First Class'\n",
    "    elif x in range(40,90):\n",
    "        return 'Pass'\n",
    "    else:\n",
    "        return 'Fail'\n",
    "stud['GradeStatus']=stud['Grade'].apply(gradestatus)\n",
    "\n",
    "\n"
   ]
  },
  {
   "cell_type": "code",
   "execution_count": 11,
   "id": "81d0876c-0fc2-47c3-96e8-e895ce373ea9",
   "metadata": {},
   "outputs": [
    {
     "data": {
      "text/html": [
       "<div>\n",
       "<style scoped>\n",
       "    .dataframe tbody tr th:only-of-type {\n",
       "        vertical-align: middle;\n",
       "    }\n",
       "\n",
       "    .dataframe tbody tr th {\n",
       "        vertical-align: top;\n",
       "    }\n",
       "\n",
       "    .dataframe thead th {\n",
       "        text-align: right;\n",
       "    }\n",
       "</style>\n",
       "<table border=\"1\" class=\"dataframe\">\n",
       "  <thead>\n",
       "    <tr style=\"text-align: right;\">\n",
       "      <th></th>\n",
       "      <th>Student</th>\n",
       "      <th>Grade</th>\n",
       "      <th>Course</th>\n",
       "      <th>GradeStatus</th>\n",
       "    </tr>\n",
       "  </thead>\n",
       "  <tbody>\n",
       "    <tr>\n",
       "      <th>0</th>\n",
       "      <td>Alice Johnson</td>\n",
       "      <td>90</td>\n",
       "      <td>Math</td>\n",
       "      <td>Distinct</td>\n",
       "    </tr>\n",
       "    <tr>\n",
       "      <th>1</th>\n",
       "      <td>Bob Smith</td>\n",
       "      <td>85</td>\n",
       "      <td>Science</td>\n",
       "      <td>First Class</td>\n",
       "    </tr>\n",
       "    <tr>\n",
       "      <th>2</th>\n",
       "      <td>Charlie Lee</td>\n",
       "      <td>88</td>\n",
       "      <td>History</td>\n",
       "      <td>First Class</td>\n",
       "    </tr>\n",
       "    <tr>\n",
       "      <th>3</th>\n",
       "      <td>Diana White</td>\n",
       "      <td>92</td>\n",
       "      <td>Math</td>\n",
       "      <td>Distinct</td>\n",
       "    </tr>\n",
       "    <tr>\n",
       "      <th>4</th>\n",
       "      <td>Ethan Brown</td>\n",
       "      <td>76</td>\n",
       "      <td>Science</td>\n",
       "      <td>Pass</td>\n",
       "    </tr>\n",
       "    <tr>\n",
       "      <th>5</th>\n",
       "      <td>Fiona Green</td>\n",
       "      <td>95</td>\n",
       "      <td>History</td>\n",
       "      <td>Distinct</td>\n",
       "    </tr>\n",
       "    <tr>\n",
       "      <th>6</th>\n",
       "      <td>George Davis</td>\n",
       "      <td>89</td>\n",
       "      <td>Math</td>\n",
       "      <td>First Class</td>\n",
       "    </tr>\n",
       "    <tr>\n",
       "      <th>7</th>\n",
       "      <td>Hannah Taylor</td>\n",
       "      <td>78</td>\n",
       "      <td>History</td>\n",
       "      <td>Pass</td>\n",
       "    </tr>\n",
       "    <tr>\n",
       "      <th>8</th>\n",
       "      <td>Ian Scott</td>\n",
       "      <td>84</td>\n",
       "      <td>Math</td>\n",
       "      <td>First Class</td>\n",
       "    </tr>\n",
       "    <tr>\n",
       "      <th>9</th>\n",
       "      <td>Jack Moore</td>\n",
       "      <td>91</td>\n",
       "      <td>Science</td>\n",
       "      <td>Distinct</td>\n",
       "    </tr>\n",
       "    <tr>\n",
       "      <th>10</th>\n",
       "      <td>Kelly Fox</td>\n",
       "      <td>87</td>\n",
       "      <td>History</td>\n",
       "      <td>First Class</td>\n",
       "    </tr>\n",
       "    <tr>\n",
       "      <th>11</th>\n",
       "      <td>Liam Young</td>\n",
       "      <td>93</td>\n",
       "      <td>Math</td>\n",
       "      <td>Distinct</td>\n",
       "    </tr>\n",
       "    <tr>\n",
       "      <th>12</th>\n",
       "      <td>Mia Hill</td>\n",
       "      <td>85</td>\n",
       "      <td>Science</td>\n",
       "      <td>First Class</td>\n",
       "    </tr>\n",
       "    <tr>\n",
       "      <th>13</th>\n",
       "      <td>Noah Clark</td>\n",
       "      <td>90</td>\n",
       "      <td>History</td>\n",
       "      <td>Distinct</td>\n",
       "    </tr>\n",
       "    <tr>\n",
       "      <th>14</th>\n",
       "      <td>Olivia Allen</td>\n",
       "      <td>88</td>\n",
       "      <td>Math</td>\n",
       "      <td>First Class</td>\n",
       "    </tr>\n",
       "  </tbody>\n",
       "</table>\n",
       "</div>"
      ],
      "text/plain": [
       "          Student  Grade   Course  GradeStatus\n",
       "0   Alice Johnson     90     Math     Distinct\n",
       "1       Bob Smith     85  Science  First Class\n",
       "2     Charlie Lee     88  History  First Class\n",
       "3     Diana White     92     Math     Distinct\n",
       "4     Ethan Brown     76  Science         Pass\n",
       "5     Fiona Green     95  History     Distinct\n",
       "6    George Davis     89     Math  First Class\n",
       "7   Hannah Taylor     78  History         Pass\n",
       "8       Ian Scott     84     Math  First Class\n",
       "9      Jack Moore     91  Science     Distinct\n",
       "10      Kelly Fox     87  History  First Class\n",
       "11     Liam Young     93     Math     Distinct\n",
       "12       Mia Hill     85  Science  First Class\n",
       "13     Noah Clark     90  History     Distinct\n",
       "14   Olivia Allen     88     Math  First Class"
      ]
     },
     "execution_count": 11,
     "metadata": {},
     "output_type": "execute_result"
    }
   ],
   "source": [
    "stud"
   ]
  },
  {
   "cell_type": "code",
   "execution_count": 12,
   "id": "86e967f0-3d5f-4d4d-8a49-11b11a684f19",
   "metadata": {},
   "outputs": [
    {
     "data": {
      "text/html": [
       "<div>\n",
       "<style scoped>\n",
       "    .dataframe tbody tr th:only-of-type {\n",
       "        vertical-align: middle;\n",
       "    }\n",
       "\n",
       "    .dataframe tbody tr th {\n",
       "        vertical-align: top;\n",
       "    }\n",
       "\n",
       "    .dataframe thead th {\n",
       "        text-align: right;\n",
       "    }\n",
       "</style>\n",
       "<table border=\"1\" class=\"dataframe\">\n",
       "  <thead>\n",
       "    <tr style=\"text-align: right;\">\n",
       "      <th></th>\n",
       "      <th>Student</th>\n",
       "      <th>Grade</th>\n",
       "      <th>Course</th>\n",
       "      <th>GradeStatus</th>\n",
       "    </tr>\n",
       "  </thead>\n",
       "  <tbody>\n",
       "    <tr>\n",
       "      <th>3</th>\n",
       "      <td>Diana White</td>\n",
       "      <td>92</td>\n",
       "      <td>Math</td>\n",
       "      <td>Distinct</td>\n",
       "    </tr>\n",
       "    <tr>\n",
       "      <th>5</th>\n",
       "      <td>Fiona Green</td>\n",
       "      <td>95</td>\n",
       "      <td>History</td>\n",
       "      <td>Distinct</td>\n",
       "    </tr>\n",
       "    <tr>\n",
       "      <th>9</th>\n",
       "      <td>Jack Moore</td>\n",
       "      <td>91</td>\n",
       "      <td>Science</td>\n",
       "      <td>Distinct</td>\n",
       "    </tr>\n",
       "    <tr>\n",
       "      <th>11</th>\n",
       "      <td>Liam Young</td>\n",
       "      <td>93</td>\n",
       "      <td>Math</td>\n",
       "      <td>Distinct</td>\n",
       "    </tr>\n",
       "  </tbody>\n",
       "</table>\n",
       "</div>"
      ],
      "text/plain": [
       "        Student  Grade   Course GradeStatus\n",
       "3   Diana White     92     Math    Distinct\n",
       "5   Fiona Green     95  History    Distinct\n",
       "9    Jack Moore     91  Science    Distinct\n",
       "11   Liam Young     93     Math    Distinct"
      ]
     },
     "execution_count": 12,
     "metadata": {},
     "output_type": "execute_result"
    }
   ],
   "source": [
    "# How can you filter rows based on a specific condition in a column (e.g., only rows where salary > 50000)?\n",
    "stud[stud['Grade']>90]"
   ]
  },
  {
   "cell_type": "code",
   "execution_count": 13,
   "id": "1732f66c-5431-48ae-abb6-a63532ea1251",
   "metadata": {},
   "outputs": [],
   "source": [
    "# How can you replace specific values in a column (e.g., replacing 'NaN' with a default value)?\n",
    "# with help of fillna and set_default function"
   ]
  },
  {
   "cell_type": "markdown",
   "id": "cda4136f-dc86-4444-9711-941505611221",
   "metadata": {},
   "source": [
    "### 4. Data Aggregation¶"
   ]
  },
  {
   "cell_type": "code",
   "execution_count": 14,
   "id": "13de813a-5abf-49b1-961c-3682fa33ed57",
   "metadata": {},
   "outputs": [
    {
     "data": {
      "text/plain": [
       "count    15.000000\n",
       "mean     87.400000\n",
       "std       5.220837\n",
       "min      76.000000\n",
       "25%      85.000000\n",
       "50%      88.000000\n",
       "75%      90.500000\n",
       "max      95.000000\n",
       "Name: Grade, dtype: float64"
      ]
     },
     "execution_count": 14,
     "metadata": {},
     "output_type": "execute_result"
    }
   ],
   "source": [
    "# How can you calculate summary statistics like sum, mean, or count for a specific column or group of columns?\n",
    "stud['Grade'].describe()\n",
    "\n"
   ]
  },
  {
   "cell_type": "code",
   "execution_count": 15,
   "id": "6e38f833-5e7c-4dfa-9785-67690967e484",
   "metadata": {},
   "outputs": [
    {
     "data": {
      "text/plain": [
       "Course\n",
       "History    438\n",
       "Math       536\n",
       "Science    337\n",
       "Name: Grade, dtype: int64"
      ]
     },
     "execution_count": 15,
     "metadata": {},
     "output_type": "execute_result"
    }
   ],
   "source": [
    "# How would you group the data by a particular column (e.g., by department) and calculate aggregated values (sum, mean)?\n",
    "stud.groupby('Course')['Grade'].sum()"
   ]
  },
  {
   "cell_type": "markdown",
   "id": "cdc41d66-3e71-4f94-b0f1-6057ed9a6050",
   "metadata": {},
   "source": [
    "### 5. Data Transformation\n",
    "- Perform split and merge\n",
    "- Pivot and unpivot columns "
   ]
  },
  {
   "cell_type": "code",
   "execution_count": 16,
   "id": "b15a39c0-7ee8-4c3d-a427-83eb9cf3129a",
   "metadata": {},
   "outputs": [],
   "source": [
    "products = {\n",
    "    \"Product\": [\n",
    "        \"Laptop\", \"Phone\", \"Tablet\", \"Smartwatch\", \"Headphones\",\n",
    "        \"Keyboard\", \"Mouse\", \"Monitor\", \"Charger\", \"Speakers\",\n",
    "        \"Webcam\", \"Printer\", \"Router\", \"Hard Drive\", \"Flash Drive\"\n",
    "    ],\n",
    "    \"Price\": [1200, 800, 600, 250, 150, 100, 30, 350, 20, 120, 75, 150, 200, 100, 25],\n",
    "    \"Category\": [\"Electronics\", \"Electronics\", \"Electronics\", \"Electronics\", \"Electronics\", \n",
    "                 \"Accessories\", \"Accessories\", \"Electronics\", \"Accessories\", \"Accessories\", \n",
    "                 \"Accessories\", \"Accessories\", \"Electronics\", \"Accessories\", \"Accessories\"]\n",
    "}\n",
    "\n",
    "product=pd.DataFrame(products)"
   ]
  },
  {
   "cell_type": "code",
   "execution_count": 17,
   "id": "d9ab5578-5666-43f4-9868-1c8612c68dc5",
   "metadata": {},
   "outputs": [
    {
     "data": {
      "text/html": [
       "<div>\n",
       "<style scoped>\n",
       "    .dataframe tbody tr th:only-of-type {\n",
       "        vertical-align: middle;\n",
       "    }\n",
       "\n",
       "    .dataframe tbody tr th {\n",
       "        vertical-align: top;\n",
       "    }\n",
       "\n",
       "    .dataframe thead th {\n",
       "        text-align: right;\n",
       "    }\n",
       "</style>\n",
       "<table border=\"1\" class=\"dataframe\">\n",
       "  <thead>\n",
       "    <tr style=\"text-align: right;\">\n",
       "      <th></th>\n",
       "      <th>Product</th>\n",
       "      <th>Price</th>\n",
       "      <th>Category</th>\n",
       "    </tr>\n",
       "  </thead>\n",
       "  <tbody>\n",
       "    <tr>\n",
       "      <th>0</th>\n",
       "      <td>Laptop</td>\n",
       "      <td>1200</td>\n",
       "      <td>Electronics</td>\n",
       "    </tr>\n",
       "    <tr>\n",
       "      <th>1</th>\n",
       "      <td>Phone</td>\n",
       "      <td>800</td>\n",
       "      <td>Electronics</td>\n",
       "    </tr>\n",
       "    <tr>\n",
       "      <th>2</th>\n",
       "      <td>Tablet</td>\n",
       "      <td>600</td>\n",
       "      <td>Electronics</td>\n",
       "    </tr>\n",
       "    <tr>\n",
       "      <th>3</th>\n",
       "      <td>Smartwatch</td>\n",
       "      <td>250</td>\n",
       "      <td>Electronics</td>\n",
       "    </tr>\n",
       "    <tr>\n",
       "      <th>4</th>\n",
       "      <td>Headphones</td>\n",
       "      <td>150</td>\n",
       "      <td>Electronics</td>\n",
       "    </tr>\n",
       "  </tbody>\n",
       "</table>\n",
       "</div>"
      ],
      "text/plain": [
       "      Product  Price     Category\n",
       "0      Laptop   1200  Electronics\n",
       "1       Phone    800  Electronics\n",
       "2      Tablet    600  Electronics\n",
       "3  Smartwatch    250  Electronics\n",
       "4  Headphones    150  Electronics"
      ]
     },
     "execution_count": 17,
     "metadata": {},
     "output_type": "execute_result"
    }
   ],
   "source": [
    "product.head()"
   ]
  },
  {
   "cell_type": "code",
   "execution_count": 18,
   "id": "b56db444-f37a-430e-a2ae-f5bf651a2618",
   "metadata": {},
   "outputs": [
    {
     "data": {
      "text/html": [
       "<div>\n",
       "<style scoped>\n",
       "    .dataframe tbody tr th:only-of-type {\n",
       "        vertical-align: middle;\n",
       "    }\n",
       "\n",
       "    .dataframe tbody tr th {\n",
       "        vertical-align: top;\n",
       "    }\n",
       "\n",
       "    .dataframe thead th {\n",
       "        text-align: right;\n",
       "    }\n",
       "</style>\n",
       "<table border=\"1\" class=\"dataframe\">\n",
       "  <thead>\n",
       "    <tr style=\"text-align: right;\">\n",
       "      <th></th>\n",
       "      <th>Product</th>\n",
       "      <th>Price</th>\n",
       "      <th>Category</th>\n",
       "    </tr>\n",
       "  </thead>\n",
       "  <tbody>\n",
       "    <tr>\n",
       "      <th>10</th>\n",
       "      <td>Webcam</td>\n",
       "      <td>75</td>\n",
       "      <td>Accessories</td>\n",
       "    </tr>\n",
       "    <tr>\n",
       "      <th>11</th>\n",
       "      <td>Printer</td>\n",
       "      <td>150</td>\n",
       "      <td>Accessories</td>\n",
       "    </tr>\n",
       "    <tr>\n",
       "      <th>12</th>\n",
       "      <td>Router</td>\n",
       "      <td>200</td>\n",
       "      <td>Electronics</td>\n",
       "    </tr>\n",
       "    <tr>\n",
       "      <th>13</th>\n",
       "      <td>Hard Drive</td>\n",
       "      <td>100</td>\n",
       "      <td>Accessories</td>\n",
       "    </tr>\n",
       "    <tr>\n",
       "      <th>14</th>\n",
       "      <td>Flash Drive</td>\n",
       "      <td>25</td>\n",
       "      <td>Accessories</td>\n",
       "    </tr>\n",
       "  </tbody>\n",
       "</table>\n",
       "</div>"
      ],
      "text/plain": [
       "        Product  Price     Category\n",
       "10       Webcam     75  Accessories\n",
       "11      Printer    150  Accessories\n",
       "12       Router    200  Electronics\n",
       "13   Hard Drive    100  Accessories\n",
       "14  Flash Drive     25  Accessories"
      ]
     },
     "execution_count": 18,
     "metadata": {},
     "output_type": "execute_result"
    }
   ],
   "source": [
    "product.tail()"
   ]
  },
  {
   "cell_type": "code",
   "execution_count": 19,
   "id": "55e0f70d-db21-4983-8f66-0b37b53c2f63",
   "metadata": {},
   "outputs": [
    {
     "data": {
      "text/html": [
       "<div>\n",
       "<style scoped>\n",
       "    .dataframe tbody tr th:only-of-type {\n",
       "        vertical-align: middle;\n",
       "    }\n",
       "\n",
       "    .dataframe tbody tr th {\n",
       "        vertical-align: top;\n",
       "    }\n",
       "\n",
       "    .dataframe thead th {\n",
       "        text-align: right;\n",
       "    }\n",
       "</style>\n",
       "<table border=\"1\" class=\"dataframe\">\n",
       "  <thead>\n",
       "    <tr style=\"text-align: right;\">\n",
       "      <th></th>\n",
       "      <th>Price</th>\n",
       "    </tr>\n",
       "  </thead>\n",
       "  <tbody>\n",
       "    <tr>\n",
       "      <th>count</th>\n",
       "      <td>15.000000</td>\n",
       "    </tr>\n",
       "    <tr>\n",
       "      <th>mean</th>\n",
       "      <td>278.000000</td>\n",
       "    </tr>\n",
       "    <tr>\n",
       "      <th>std</th>\n",
       "      <td>337.288558</td>\n",
       "    </tr>\n",
       "    <tr>\n",
       "      <th>min</th>\n",
       "      <td>20.000000</td>\n",
       "    </tr>\n",
       "    <tr>\n",
       "      <th>25%</th>\n",
       "      <td>87.500000</td>\n",
       "    </tr>\n",
       "    <tr>\n",
       "      <th>50%</th>\n",
       "      <td>150.000000</td>\n",
       "    </tr>\n",
       "    <tr>\n",
       "      <th>75%</th>\n",
       "      <td>300.000000</td>\n",
       "    </tr>\n",
       "    <tr>\n",
       "      <th>max</th>\n",
       "      <td>1200.000000</td>\n",
       "    </tr>\n",
       "  </tbody>\n",
       "</table>\n",
       "</div>"
      ],
      "text/plain": [
       "             Price\n",
       "count    15.000000\n",
       "mean    278.000000\n",
       "std     337.288558\n",
       "min      20.000000\n",
       "25%      87.500000\n",
       "50%     150.000000\n",
       "75%     300.000000\n",
       "max    1200.000000"
      ]
     },
     "execution_count": 19,
     "metadata": {},
     "output_type": "execute_result"
    }
   ],
   "source": [
    "product.describe()"
   ]
  },
  {
   "cell_type": "code",
   "execution_count": 20,
   "id": "5e84b210-fd59-4488-99fb-d06f5a552c75",
   "metadata": {},
   "outputs": [
    {
     "name": "stdout",
     "output_type": "stream",
     "text": [
      "<class 'pandas.core.frame.DataFrame'>\n",
      "RangeIndex: 15 entries, 0 to 14\n",
      "Data columns (total 3 columns):\n",
      " #   Column    Non-Null Count  Dtype \n",
      "---  ------    --------------  ----- \n",
      " 0   Product   15 non-null     object\n",
      " 1   Price     15 non-null     int64 \n",
      " 2   Category  15 non-null     object\n",
      "dtypes: int64(1), object(2)\n",
      "memory usage: 492.0+ bytes\n"
     ]
    }
   ],
   "source": [
    "product.info()"
   ]
  },
  {
   "cell_type": "code",
   "execution_count": 21,
   "id": "3e5802ba-72fb-4fa7-b37a-8f6e74545d58",
   "metadata": {},
   "outputs": [
    {
     "data": {
      "text/plain": [
       "Product     0\n",
       "Price       0\n",
       "Category    0\n",
       "dtype: int64"
      ]
     },
     "execution_count": 21,
     "metadata": {},
     "output_type": "execute_result"
    }
   ],
   "source": [
    "product.isnull().sum()"
   ]
  },
  {
   "cell_type": "markdown",
   "id": "0b5cb82e-e2f0-4dea-81d8-97223179f41e",
   "metadata": {},
   "source": [
    "### 2. Data Cleaning"
   ]
  },
  {
   "cell_type": "code",
   "execution_count": 22,
   "id": "ec59195d-0b4e-488b-8d31-00a87ff6bda4",
   "metadata": {},
   "outputs": [
    {
     "data": {
      "text/plain": [
       "np.int64(0)"
      ]
     },
     "execution_count": 22,
     "metadata": {},
     "output_type": "execute_result"
    }
   ],
   "source": [
    "product.duplicated().sum()"
   ]
  },
  {
   "cell_type": "code",
   "execution_count": 23,
   "id": "937dcdb5-e87d-423f-a7a9-a15adac16f29",
   "metadata": {},
   "outputs": [],
   "source": [
    "# No Duplicates found\n"
   ]
  }
 ],
 "metadata": {
  "kernelspec": {
   "display_name": "Python 3 (ipykernel)",
   "language": "python",
   "name": "python3"
  },
  "language_info": {
   "codemirror_mode": {
    "name": "ipython",
    "version": 3
   },
   "file_extension": ".py",
   "mimetype": "text/x-python",
   "name": "python",
   "nbconvert_exporter": "python",
   "pygments_lexer": "ipython3",
   "version": "3.13.0"
  }
 },
 "nbformat": 4,
 "nbformat_minor": 5
}
