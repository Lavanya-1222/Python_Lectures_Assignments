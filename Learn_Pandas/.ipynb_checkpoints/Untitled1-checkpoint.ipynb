{
 "cells": [
  {
   "cell_type": "code",
   "execution_count": 2,
   "id": "a77a0376-9f77-439a-b511-5643c1218d82",
   "metadata": {},
   "outputs": [],
   "source": [
    "import numpy as np\n",
    "from numpy import random as rd"
   ]
  },
  {
   "cell_type": "code",
   "execution_count": 6,
   "id": "d35e02b4-a2cd-4fb2-8fb7-08e0f9cec4d0",
   "metadata": {},
   "outputs": [
    {
     "data": {
      "text/plain": [
       "array([[24, 34, 29],\n",
       "       [44, 45, 46],\n",
       "       [28, 15, 26]], dtype=int32)"
      ]
     },
     "execution_count": 6,
     "metadata": {},
     "output_type": "execute_result"
    }
   ],
   "source": [
    "# 1. Create a 2D NumPy array of shape (5,5) filled with random integers between 10 and 50. \n",
    "# Extract the sub-array containing rows 2 to 4 and columns 1 to 3.\n",
    "arr=rd.randint(10,50,(5,5))\n",
    "arr[2:,1:4]\n"
   ]
  },
  {
   "cell_type": "code",
   "execution_count": 10,
   "id": "4f0fcbd4-75ed-403f-a8e1-ead0be8b932e",
   "metadata": {},
   "outputs": [
    {
     "name": "stdout",
     "output_type": "stream",
     "text": [
      "[[[ 8 63 75 84 40]\n",
      "  [38 19 10 43 65]\n",
      "  [20 59 51 34 76]\n",
      "  [ 6 86 91 13  1]]\n",
      "\n",
      " [[76 14 10 74 40]\n",
      "  [28  3 38 37 34]\n",
      "  [ 6 94 43 62 23]\n",
      "  [39 73 59  9  7]]\n",
      "\n",
      " [[ 7 62 82 68 83]\n",
      "  [16 53 29 16 79]\n",
      "  [20 38 92 38 13]\n",
      "  [ 8 20 68 86 86]]]\n"
     ]
    },
    {
     "data": {
      "text/plain": [
       "array([[38, 19, 10, 43, 65],\n",
       "       [28,  3, 38, 37, 34],\n",
       "       [16, 53, 29, 16, 79]], dtype=int32)"
      ]
     },
     "execution_count": 10,
     "metadata": {},
     "output_type": "execute_result"
    }
   ],
   "source": [
    "# 2. Generate a 3D NumPy array of shape (3,4,5) with random integers between 1 and 100. Retrieve all elements from the second row of each 2D slice. \n",
    "arr=rd.randint(1,100,(3,4,5))\n",
    "print(arr)\n",
    "arr[:,1,:]"
   ]
  },
  {
   "cell_type": "code",
   "execution_count": null,
   "id": "a8562d2b-4d75-478f-824e-2013cd53bca7",
   "metadata": {},
   "outputs": [],
   "source": [
    "# 3. Create a 6x6 NumPy array with random integers between 1 and 100. Replace all even numbers with -1 without using loops.  \n",
    "arr=randint(1,100,(6,6))\n"
   ]
  },
  {
   "cell_type": "code",
   "execution_count": null,
   "id": "fb8b0b4c-82d9-4ba4-9e5b-358ebb364ab3",
   "metadata": {},
   "outputs": [],
   "source": [
    "# 4. Generate a 3D NumPy array of shape (4,3,2) with random integers. Reverse the order of the first axis (flip along the first dimension).\n"
   ]
  },
  {
   "cell_type": "code",
   "execution_count": 16,
   "id": "f6f54ced-a003-4262-a9a7-90139c7a69dd",
   "metadata": {},
   "outputs": [
    {
     "name": "stdout",
     "output_type": "stream",
     "text": [
      "[[ 5  7]\n",
      " [ 9 11]]\n",
      "[[3 3]\n",
      " [3 3]]\n",
      "[[16 19]\n",
      " [36 43]]\n",
      "[[0.25       0.4       ]\n",
      " [0.5        0.57142857]]\n"
     ]
    }
   ],
   "source": [
    "# sample\n",
    "x=np.matrix([[1,2],[3,4]])\n",
    "y=np.matrix([[4,5],[6,7]])\n",
    "print(x+y)\n",
    "print(y-x)\n",
    "print(x.dot(y))#this is used for multiplication\n",
    "print(x/y)\n",
    "\n"
   ]
  },
  {
   "cell_type": "code",
   "execution_count": 20,
   "id": "e5054eee-ba7f-4072-af75-08fdba7e45dd",
   "metadata": {},
   "outputs": [
    {
     "name": "stdout",
     "output_type": "stream",
     "text": [
      "[[ 1  2  3  4  5  6  7  8]\n",
      " [ 9 10 11 12 13 14 15 16]\n",
      " [17 18 19 20 21 22 23 24]\n",
      " [25 26 27 28 29 30 31 32]\n",
      " [33 34 35 36 37 38 39 40]\n",
      " [41 42 43 44 45 46 47 48]\n",
      " [49 50 51 52 53 54 55 56]\n",
      " [57 58 59 60 61 62 63 64]]\n"
     ]
    },
    {
     "data": {
      "text/plain": [
       "matrix([[19, 20, 21, 22],\n",
       "        [27, 28, 29, 30],\n",
       "        [35, 36, 37, 38],\n",
       "        [43, 44, 45, 46]])"
      ]
     },
     "execution_count": 20,
     "metadata": {},
     "output_type": "execute_result"
    }
   ],
   "source": [
    "x=np.matrix(np.arange(1,65).reshape(8,8))\n",
    "print(x)\n",
    "x[2:6,2:6]"
   ]
  },
  {
   "cell_type": "code",
   "execution_count": 21,
   "id": "8d44beb7-0990-4de5-9da8-229717a71860",
   "metadata": {},
   "outputs": [
    {
     "data": {
      "text/plain": [
       "matrix([[ 1,  9, 17, 25, 33, 41, 49, 57],\n",
       "        [ 2, 10, 18, 26, 34, 42, 50, 58],\n",
       "        [ 3, 11, 19, 27, 35, 43, 51, 59],\n",
       "        [ 4, 12, 20, 28, 36, 44, 52, 60],\n",
       "        [ 5, 13, 21, 29, 37, 45, 53, 61],\n",
       "        [ 6, 14, 22, 30, 38, 46, 54, 62],\n",
       "        [ 7, 15, 23, 31, 39, 47, 55, 63],\n",
       "        [ 8, 16, 24, 32, 40, 48, 56, 64]])"
      ]
     },
     "execution_count": 21,
     "metadata": {},
     "output_type": "execute_result"
    }
   ],
   "source": [
    "x.transpose()"
   ]
  },
  {
   "cell_type": "code",
   "execution_count": null,
   "id": "945389ec-9350-4787-9e08-e10e4b66dc94",
   "metadata": {},
   "outputs": [],
   "source": []
  }
 ],
 "metadata": {
  "kernelspec": {
   "display_name": "Python 3 (ipykernel)",
   "language": "python",
   "name": "python3"
  },
  "language_info": {
   "codemirror_mode": {
    "name": "ipython",
    "version": 3
   },
   "file_extension": ".py",
   "mimetype": "text/x-python",
   "name": "python",
   "nbconvert_exporter": "python",
   "pygments_lexer": "ipython3",
   "version": "3.13.0"
  }
 },
 "nbformat": 4,
 "nbformat_minor": 5
}
