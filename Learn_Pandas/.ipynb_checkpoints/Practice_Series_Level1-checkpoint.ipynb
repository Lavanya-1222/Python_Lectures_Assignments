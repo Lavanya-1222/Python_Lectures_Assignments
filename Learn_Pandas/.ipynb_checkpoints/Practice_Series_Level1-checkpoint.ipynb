{
 "cells": [
  {
   "cell_type": "code",
   "execution_count": 3,
   "id": "a32ac173-79a1-4c7a-b715-d4e6c51916fa",
   "metadata": {},
   "outputs": [],
   "source": [
    "import pandas as pd"
   ]
  },
  {
   "cell_type": "code",
   "execution_count": 5,
   "id": "1532c052-c0ce-4181-a4ca-652c3f53e970",
   "metadata": {},
   "outputs": [
    {
     "name": "stdout",
     "output_type": "stream",
     "text": [
      "0    10\n",
      "1    20\n",
      "2    30\n",
      "3    40\n",
      "4    50\n",
      "dtype: int64\n"
     ]
    }
   ],
   "source": [
    "# 1. Create a Pandas Series from a list [10, 20, 30, 40, 50].  \n",
    "list=[10, 20, 30, 40, 50]\n",
    "print(pd.Series(list))\n",
    "\n"
   ]
  },
  {
   "cell_type": "code",
   "execution_count": 7,
   "id": "2814c3d2-08ab-4a20-a4e8-1f426fa71bf2",
   "metadata": {},
   "outputs": [
    {
     "name": "stdout",
     "output_type": "stream",
     "text": [
      "a    100\n",
      "b    200\n",
      "c    300\n",
      "d    400\n",
      "dtype: int64\n"
     ]
    }
   ],
   "source": [
    "# 2. Create a Pandas Series from a dictionary { 'a': 100, 'b': 200, 'c': 300, 'd': 400 }.  \n",
    "dictionary={ 'a': 100, 'b': 200, 'c': 300, 'd': 400 }\n",
    "print(pd.Series(dictionary))"
   ]
  },
  {
   "cell_type": "code",
   "execution_count": 14,
   "id": "f5c05884-459a-4448-8737-995e4a24d815",
   "metadata": {},
   "outputs": [
    {
     "data": {
      "text/plain": [
       "A     5\n",
       "B    10\n",
       "C    15\n",
       "D    20\n",
       "E    25\n",
       "dtype: int64"
      ]
     },
     "execution_count": 14,
     "metadata": {},
     "output_type": "execute_result"
    }
   ],
   "source": [
    "# 3. Create a Pandas Series with values [5, 10, 15, 20, 25] and set the index labels as ['A', 'B', 'C', 'D', 'E'].  \n",
    "values=[5, 10, 15, 20, 25]\n",
    "s=pd.Series(values,index=['A', 'B', 'C', 'D', 'E'])\n",
    "s"
   ]
  },
  {
   "cell_type": "code",
   "execution_count": 13,
   "id": "50169557-593d-4230-b8dc-4efe99479481",
   "metadata": {},
   "outputs": [
    {
     "name": "stdout",
     "output_type": "stream",
     "text": [
      "15\n"
     ]
    },
    {
     "name": "stderr",
     "output_type": "stream",
     "text": [
      "C:\\Users\\Admin\\AppData\\Local\\Temp\\ipykernel_9432\\2127384073.py:2: FutureWarning: Series.__getitem__ treating keys as positions is deprecated. In a future version, integer keys will always be treated as labels (consistent with DataFrame behavior). To access a value by position, use `ser.iloc[pos]`\n",
      "  print(s[2])\n"
     ]
    }
   ],
   "source": [
    "# 4. Access the 3rd element from a given Series.  \n",
    "print(s[2])"
   ]
  },
  {
   "cell_type": "code",
   "execution_count": 16,
   "id": "59ce44e2-e51a-41de-9d40-4b3087a81e3d",
   "metadata": {},
   "outputs": [
    {
     "name": "stdout",
     "output_type": "stream",
     "text": [
      "D    20\n",
      "E    25\n",
      "dtype: int64\n"
     ]
    }
   ],
   "source": [
    "# 5. Retrieve elements from a Series where values are greater than 15. \n",
    "print(s[s>15])\n",
    "\n"
   ]
  },
  {
   "cell_type": "code",
   "execution_count": 20,
   "id": "4deec641-0df1-41dd-90a7-2d8f66741706",
   "metadata": {},
   "outputs": [
    {
     "name": "stdout",
     "output_type": "stream",
     "text": [
      "30\n",
      "6.0\n",
      "3.1622776601683795\n"
     ]
    }
   ],
   "source": [
    "# 6. Find the sum, mean, and standard deviation of a Pandas Series containing [2, 4, 6, 8, 10].\n",
    "s=pd.Series([2, 4, 6, 8, 10])\n",
    "print(s.sum())\n",
    "print(s.mean())\n",
    "print(s.std())"
   ]
  },
  {
   "cell_type": "code",
   "execution_count": 23,
   "id": "e7d14b1d-12ae-4ecf-a69f-2fdc397a4e86",
   "metadata": {},
   "outputs": [
    {
     "name": "stdout",
     "output_type": "stream",
     "text": [
      "True\n"
     ]
    }
   ],
   "source": [
    "# 7. Check if the value 20 exists in a Pandas Series with values [10, 20, 30, 40, 50].  \n",
    "s=pd.Series([10, 20, 30, 40, 50])\n",
    "print(20 in s.values)\n"
   ]
  },
  {
   "cell_type": "code",
   "execution_count": 24,
   "id": "7aeb6f46-b74a-454e-ac7a-26ca43e852d9",
   "metadata": {},
   "outputs": [
    {
     "name": "stdout",
     "output_type": "stream",
     "text": [
      "0    1\n",
      "1    2\n",
      "2    3\n",
      "3    4\n",
      "4    5\n",
      "dtype: int64\n"
     ]
    }
   ],
   "source": [
    "# 8. Convert a NumPy array [1, 2, 3, 4, 5] into a Pandas Series. \n",
    "import numpy as np\n",
    "a=np.array([1,2,3,4,5])\n",
    "print(pd.Series(a))"
   ]
  },
  {
   "cell_type": "code",
   "execution_count": 33,
   "id": "e52bba71-2d38-4d56-aaae-f569e5c8e172",
   "metadata": {},
   "outputs": [],
   "source": [
    "# 9. Create a Pandas Series with 10 random numbers between 1 and 100\n",
    "from numpy import random as rd\n",
    "a=rd.randint(1,100,(10,))\n",
    "s=pd.Series(a)\n"
   ]
  },
  {
   "cell_type": "code",
   "execution_count": 37,
   "id": "83f49121-c3f3-4524-a632-0e95d6101ebc",
   "metadata": {},
   "outputs": [
    {
     "name": "stdout",
     "output_type": "stream",
     "text": [
      "0    14\n",
      "1    50\n",
      "2    50\n",
      "3    50\n",
      "4    50\n",
      "5    50\n",
      "6    22\n",
      "7    50\n",
      "8    50\n",
      "9    42\n",
      "dtype: int32\n"
     ]
    }
   ],
   "source": [
    "# 10. Replace all values greater than 50 in a Series with 50.  \n",
    "s[s>50]=50\n",
    "print(s)\n",
    "  \n"
   ]
  },
  {
   "cell_type": "code",
   "execution_count": 39,
   "id": "7bfa928f-dcd6-4a40-bb09-ab18f493b359",
   "metadata": {},
   "outputs": [
    {
     "name": "stdout",
     "output_type": "stream",
     "text": [
      "0    1.0\n",
      "1    2.0\n",
      "2    0.0\n",
      "3    4.0\n",
      "4    5.0\n",
      "dtype: float64\n"
     ]
    }
   ],
   "source": [
    "# 11. Convert a Pandas Series [1, 2, np.nan, 4, 5] into integers by filling NaN values with 0.\n",
    "s=pd.Series([1, 2, np.nan, 4, 5])\n",
    "print(s.fillna(0))\n",
    "\n"
   ]
  },
  {
   "cell_type": "code",
   "execution_count": 40,
   "id": "3ff3f2b2-512b-4f81-b8f8-7864bb0d88f6",
   "metadata": {},
   "outputs": [
    {
     "data": {
      "text/plain": [
       "X    10\n",
       "Y    20\n",
       "Z    30\n",
       "W    40\n",
       "V    50\n",
       "dtype: int64"
      ]
     },
     "execution_count": 40,
     "metadata": {},
     "output_type": "execute_result"
    }
   ],
   "source": [
    "# 12. Change the index of a Series to ['X', 'Y', 'Z', 'W', 'V'] for values [10, 20, 30, 40, 50].  \n",
    "pd.Series([10, 20, 30, 40, 50],index=['X', 'Y', 'Z', 'W', 'V'] )\n",
    "\n",
    " \n"
   ]
  },
  {
   "cell_type": "code",
   "execution_count": 50,
   "id": "24542918-560a-4f2e-bbc3-ac1689874982",
   "metadata": {},
   "outputs": [
    {
     "name": "stdout",
     "output_type": "stream",
     "text": [
      "2    50\n",
      "4    40\n",
      "0    30\n",
      "3    20\n",
      "1    10\n",
      "dtype: int64\n"
     ]
    }
   ],
   "source": [
    "# 13. Sort a Pandas Series with values [30, 10, 50, 20, 40] in descending order.  \n",
    "s=pd.Series([30, 10, 50, 20, 40])\n",
    "print(s.sort_values(ascending=False))"
   ]
  },
  {
   "cell_type": "code",
   "execution_count": 52,
   "id": "ba37d631-5737-424e-8884-09c271956370",
   "metadata": {},
   "outputs": [
    {
     "data": {
      "text/plain": [
       "0     4\n",
       "1     9\n",
       "2    16\n",
       "3    25\n",
       "4    36\n",
       "dtype: int64"
      ]
     },
     "execution_count": 52,
     "metadata": {},
     "output_type": "execute_result"
    }
   ],
   "source": [
    "# 14. Apply a lambda function to square each value in a Pandas Series with values [2, 3, 4, 5, 6]. \n",
    "s=pd.Series([2, 3, 4, 5, 6])\n",
    "s.apply(lambda x:x**2)\n"
   ]
  },
  {
   "cell_type": "code",
   "execution_count": 53,
   "id": "903d02c1-7084-438d-a841-9c44ce0c120a",
   "metadata": {},
   "outputs": [
    {
     "data": {
      "text/plain": [
       "0    32.0\n",
       "1    50.0\n",
       "2    68.0\n",
       "3    86.0\n",
       "dtype: float64"
      ]
     },
     "execution_count": 53,
     "metadata": {},
     "output_type": "execute_result"
    }
   ],
   "source": [
    "# 15. Convert a Pandas Series of temperature in Celsius [0, 10, 20, 30] to Fahrenheit using the formula F = C * 9/5 + 32.\n",
    "c=pd.Series([0, 10, 20, 30])\n",
    "c*(9/5)+32\n"
   ]
  },
  {
   "cell_type": "code",
   "execution_count": null,
   "id": "238241eb-0aa1-4eaa-9bea-c74834e10918",
   "metadata": {},
   "outputs": [],
   "source": []
  }
 ],
 "metadata": {
  "kernelspec": {
   "display_name": "Python 3 (ipykernel)",
   "language": "python",
   "name": "python3"
  },
  "language_info": {
   "codemirror_mode": {
    "name": "ipython",
    "version": 3
   },
   "file_extension": ".py",
   "mimetype": "text/x-python",
   "name": "python",
   "nbconvert_exporter": "python",
   "pygments_lexer": "ipython3",
   "version": "3.13.0"
  }
 },
 "nbformat": 4,
 "nbformat_minor": 5
}
