{
 "cells": [
  {
   "cell_type": "code",
   "execution_count": 4,
   "id": "3ab335ff-011b-4fb0-a93b-9a32d6e98fad",
   "metadata": {},
   "outputs": [
    {
     "name": "stdout",
     "output_type": "stream",
     "text": [
      "2.1.3\n",
      "Build Dependencies:\n",
      "  blas:\n",
      "    detection method: pkgconfig\n",
      "    found: true\n",
      "    include directory: C:/Users/runneradmin/AppData/Local/Temp/cibw-run-3gvsmi_8/cp313-win_amd64/build/venv/Lib/site-packages/scipy_openblas64/include\n",
      "    lib directory: C:/Users/runneradmin/AppData/Local/Temp/cibw-run-3gvsmi_8/cp313-win_amd64/build/venv/Lib/site-packages/scipy_openblas64/lib\n",
      "    name: scipy-openblas\n",
      "    openblas configuration: OpenBLAS 0.3.27  USE64BITINT DYNAMIC_ARCH NO_AFFINITY\n",
      "      Haswell MAX_THREADS=24\n",
      "    pc file directory: D:/a/numpy/numpy/.openblas\n",
      "    version: 0.3.27\n",
      "  lapack:\n",
      "    detection method: pkgconfig\n",
      "    found: true\n",
      "    include directory: C:/Users/runneradmin/AppData/Local/Temp/cibw-run-3gvsmi_8/cp313-win_amd64/build/venv/Lib/site-packages/scipy_openblas64/include\n",
      "    lib directory: C:/Users/runneradmin/AppData/Local/Temp/cibw-run-3gvsmi_8/cp313-win_amd64/build/venv/Lib/site-packages/scipy_openblas64/lib\n",
      "    name: scipy-openblas\n",
      "    openblas configuration: OpenBLAS 0.3.27  USE64BITINT DYNAMIC_ARCH NO_AFFINITY\n",
      "      Haswell MAX_THREADS=24\n",
      "    pc file directory: D:/a/numpy/numpy/.openblas\n",
      "    version: 0.3.27\n",
      "Compilers:\n",
      "  c:\n",
      "    commands: cl\n",
      "    linker: link\n",
      "    name: msvc\n",
      "    version: 19.29.30156\n",
      "  c++:\n",
      "    commands: cl\n",
      "    linker: link\n",
      "    name: msvc\n",
      "    version: 19.29.30156\n",
      "  cython:\n",
      "    commands: cython\n",
      "    linker: cython\n",
      "    name: cython\n",
      "    version: 3.0.11\n",
      "Machine Information:\n",
      "  build:\n",
      "    cpu: x86_64\n",
      "    endian: little\n",
      "    family: x86_64\n",
      "    system: windows\n",
      "  host:\n",
      "    cpu: x86_64\n",
      "    endian: little\n",
      "    family: x86_64\n",
      "    system: windows\n",
      "Python Information:\n",
      "  path: C:\\Users\\runneradmin\\AppData\\Local\\Temp\\build-env-3iv2ryft\\Scripts\\python.exe\n",
      "  version: '3.13'\n",
      "SIMD Extensions:\n",
      "  baseline:\n",
      "  - SSE\n",
      "  - SSE2\n",
      "  - SSE3\n",
      "  found:\n",
      "  - SSSE3\n",
      "  - SSE41\n",
      "  - POPCNT\n",
      "  - SSE42\n",
      "  - AVX\n",
      "  - F16C\n",
      "  - FMA3\n",
      "  - AVX2\n",
      "  not found:\n",
      "  - AVX512F\n",
      "  - AVX512CD\n",
      "  - AVX512_SKX\n",
      "  - AVX512_CLX\n",
      "  - AVX512_CNL\n",
      "  - AVX512_ICL\n",
      "\n"
     ]
    }
   ],
   "source": [
    "# 1. Get NumPy Version & Build Info\n",
    "# Write a Numpy program to get the Numpy version and show the Numpy build configuration.\n",
    "import numpy as np\n",
    "print(np.__version__)\n",
    "np.show_config()"
   ]
  },
  {
   "cell_type": "code",
   "execution_count": 7,
   "id": "dc3a488e-8b3c-4d22-a62f-4ceb9d1909be",
   "metadata": {},
   "outputs": [
    {
     "name": "stdout",
     "output_type": "stream",
     "text": [
      "     *** Found in numpy ***\n",
      "add(x1, x2, /, out=None, *, where=True, casting='same_kind', order='K', dtype=None, subok=True[, signature])\n",
      "\n",
      "Add arguments element-wise.\n",
      "\n",
      "Parameters\n",
      "----------\n",
      "x1, x2 : array_like\n",
      "    The arrays to be added.\n",
      "    If ``x1.shape != x2.shape``, they must be broadcastable to a common\n",
      "    shape (which becomes the shape of the output).\n",
      "out : ndarray, None, or tuple of ndarray and None, optional\n",
      "    A location into which the result is stored. If provided, it must have\n",
      "    a shape that the inputs broadcast to. If not provided or None,\n",
      "    a freshly-allocated array is returned. A tuple (possible only as a\n",
      "    keyword argument) must have length equal to the number of outputs.\n",
      "where : array_like, optional\n",
      "    This condition is broadcast over the input. At locations where the\n",
      "    condition is True, the `out` array will be set to the ufunc result.\n",
      "    Elsewhere, the `out` array will retain its original value.\n",
      "    Note that if an uninitialized `out` array is created via the default\n",
      "    ``out=None``, locations within it where the condition is False will\n",
      "    remain uninitialized.\n",
      "**kwargs\n",
      "    For other keyword-only arguments, see the\n",
      "    :ref:`ufunc docs <ufuncs.kwargs>`.\n",
      "\n",
      "Returns\n",
      "-------\n",
      "add : ndarray or scalar\n",
      "    The sum of `x1` and `x2`, element-wise.\n",
      "    This is a scalar if both `x1` and `x2` are scalars.\n",
      "\n",
      "Notes\n",
      "-----\n",
      "Equivalent to `x1` + `x2` in terms of array broadcasting.\n",
      "\n",
      "Examples\n",
      "--------\n",
      ">>> import numpy as np\n",
      ">>> np.add(1.0, 4.0)\n",
      "5.0\n",
      ">>> x1 = np.arange(9.0).reshape((3, 3))\n",
      ">>> x2 = np.arange(3.0)\n",
      ">>> np.add(x1, x2)\n",
      "array([[  0.,   2.,   4.],\n",
      "       [  3.,   5.,   7.],\n",
      "       [  6.,   8.,  10.]])\n",
      "\n",
      "The ``+`` operator can be used as a shorthand for ``np.add`` on ndarrays.\n",
      "\n",
      ">>> x1 = np.arange(9.0).reshape((3, 3))\n",
      ">>> x2 = np.arange(3.0)\n",
      ">>> x1 + x2\n",
      "array([[ 0.,  2.,  4.],\n",
      "       [ 3.,  5.,  7.],\n",
      "       [ 6.,  8., 10.]])\n",
      "----------------------------------------------------------------------------\n",
      "\n",
      "     *** Repeat reference found in numpy._core *** \n",
      "\n",
      "     *** Repeat reference found in numpy._core._multiarray_umath *** \n",
      "\n",
      "     *** Repeat reference found in numpy._core.multiarray *** \n",
      "\n",
      "     *** Repeat reference found in numpy._core.umath *** \n",
      "\n",
      "     *** Repeat reference found in numpy._core.numeric *** \n",
      "\n",
      "     *** Repeat reference found in numpy.linalg._linalg *** \n",
      "\n",
      "     *** Repeat reference found in numpy.lib._function_base_impl *** \n",
      "     *** Found in operator ***\n",
      "Same as a + b.\n",
      "----------------------------------------------------------------------------\n",
      "\n",
      "     *** Total of 9 references found. ***\n"
     ]
    }
   ],
   "source": [
    "# 2. Help for NumPy Add Function\n",
    "# Write a NumPy program to get help with the add function.\n",
    "np.info('add')"
   ]
  },
  {
   "cell_type": "code",
   "execution_count": 9,
   "id": "09ce3bc3-0b0e-4bc1-978a-8d7c16ac09be",
   "metadata": {},
   "outputs": [
    {
     "data": {
      "text/plain": [
       "np.True_"
      ]
     },
     "execution_count": 9,
     "metadata": {},
     "output_type": "execute_result"
    }
   ],
   "source": [
    "# 3. Test None are Zero\n",
    "# Write a NumPy program to test whether none of the elements of a given array are zero. \n",
    "np.all(np.array([10,20,1,40,50]))\n"
   ]
  },
  {
   "cell_type": "code",
   "execution_count": 19,
   "id": "77c732e4-41c8-4ced-8cb6-21c4b51d0697",
   "metadata": {},
   "outputs": [
    {
     "data": {
      "text/plain": [
       "np.False_"
      ]
     },
     "execution_count": 19,
     "metadata": {},
     "output_type": "execute_result"
    }
   ],
   "source": [
    "# 4. Test Any Non-Zero\n",
    "# Write a NumPy program to test if any of the elements of a given array are non-zero. \n",
    "np.any(np.array([0,0,0,0,0,0]))"
   ]
  },
  {
   "cell_type": "code",
   "execution_count": 32,
   "id": "0958fafc-2216-4a21-943f-9de3cec5a753",
   "metadata": {},
   "outputs": [
    {
     "name": "stdout",
     "output_type": "stream",
     "text": [
      "[ True False False False]\n"
     ]
    },
    {
     "data": {
      "text/plain": [
       "array([ True,  True,  True, False, False])"
      ]
     },
     "execution_count": 32,
     "metadata": {},
     "output_type": "execute_result"
    }
   ],
   "source": [
    "# 5. Test Finiteness of Elements\n",
    "# Write a NumPy program to test a given array element-wise for finiteness (not infinity or not a number).\n",
    "np.isfinite(np.array([10,2,-0,np.nan,np.inf]))"
   ]
  },
  {
   "cell_type": "code",
   "execution_count": 28,
   "id": "b40d58de-bc0c-45b8-ba27-721444e9f565",
   "metadata": {},
   "outputs": [
    {
     "name": "stdout",
     "output_type": "stream",
     "text": [
      "inf\n"
     ]
    }
   ],
   "source": [
    "print(np.inf)"
   ]
  },
  {
   "cell_type": "code",
   "execution_count": 47,
   "id": "d2da1e30-7a32-4c73-a507-0d546fc7bb81",
   "metadata": {},
   "outputs": [
    {
     "name": "stdout",
     "output_type": "stream",
     "text": [
      "[ True False False False]\n",
      "[False False  True False False]\n",
      "[False False False  True False]\n"
     ]
    },
    {
     "data": {
      "text/plain": [
       "array([False,  True])"
      ]
     },
     "execution_count": 47,
     "metadata": {},
     "output_type": "execute_result"
    }
   ],
   "source": [
    "# 6. Test for Infinity\n",
    "# Write a NumPy program to test elements-wise for positive or negative infinity. \n",
    "print(np.isinf(np.array([np.inf,np.nan,12,0])))\n",
    "print(np.isposinf(np.array([10,20,np.inf,-np.inf,0])))\n",
    "print(np.isneginf(np.array([10,20,np.inf,-np.inf,3])))\n",
    "np.isposinf([10,np.inf])"
   ]
  },
  {
   "cell_type": "code",
   "execution_count": 50,
   "id": "efc4cbd3-b365-4e9d-8add-a5b476e7f6e2",
   "metadata": {},
   "outputs": [
    {
     "data": {
      "text/plain": [
       "array([False,  True, False, False])"
      ]
     },
     "execution_count": 50,
     "metadata": {},
     "output_type": "execute_result"
    }
   ],
   "source": [
    "# 7. Test for NaN\n",
    "# Write a NumPy program to test element-wise for NaN of a given array.\n",
    "np.isnan(np.array([10,np.nan,np.inf,0]))"
   ]
  },
  {
   "cell_type": "code",
   "execution_count": 66,
   "id": "aabec745-9c0d-4c58-9dc8-fd7cb169d8b7",
   "metadata": {},
   "outputs": [
    {
     "name": "stdout",
     "output_type": "stream",
     "text": [
      "[ True False False False False  True]\n",
      "[False  True  True  True  True False]\n",
      "True\n"
     ]
    }
   ],
   "source": [
    "# 8. Test for Complex/Real/Scalar\n",
    "# Write a NumPy program to test element-wise for complex numbers, real numbers in a given array. Also test if a given number is of a scalar type or not.\n",
    "a=np.array([1+1j,1+0j,4.5,3,2,2j])\n",
    "print(np.iscomplex(a))\n",
    "print(np.isreal(a))\n",
    "print(np.isscalar(90))"
   ]
  },
  {
   "cell_type": "code",
   "execution_count": 78,
   "id": "7b7263e5-3684-48b9-ae09-9a43279fcf2e",
   "metadata": {},
   "outputs": [
    {
     "name": "stdout",
     "output_type": "stream",
     "text": [
      "[False False False False False  True]\n",
      "[ True  True False False False  True]\n",
      "[ True  True  True  True  True False]\n",
      "[False False  True  True  True  True]\n",
      "[ True  True False False False  True]\n"
     ]
    }
   ],
   "source": [
    "# 10. Element-Wise Comparison (Greater/Less)\n",
    "# Write a NumPy program to create an element-wise comparison (greater, greater_equal, less and less_equal) of two given arrays.\n",
    "a1=np.array([10,20,30,40,50,700])\n",
    "a2=np.array([100,200,300,400,500,600])\n",
    "a3=np.array([10,20,300,500,600,700])\n",
    "print(np.greater(a1,a2))\n",
    "print(np.greater_equal(a1,a3))\n",
    "print(np.less(a1,a2))\n",
    "print(np.less_equal(a2,a3))\n",
    "print(np.equal(a1,a3))"
   ]
  },
  {
   "cell_type": "code",
   "execution_count": 83,
   "id": "e206fa89-5f07-4884-8877-b7969440192b",
   "metadata": {},
   "outputs": [
    {
     "name": "stdout",
     "output_type": "stream",
     "text": [
      "48\n"
     ]
    }
   ],
   "source": [
    "# 12. Array Memory Size\n",
    "# Write a NumPy program to create an array with the values 1, 7, 13, 105 and determine the size of the memory occupied by the array.\n",
    "a1=np.array([10,20,30,40,50,700])\n",
    "print((a1.itemsize)*len(a1))\n"
   ]
  },
  {
   "cell_type": "code",
   "execution_count": 94,
   "id": "f0b405dc-5f40-4430-91d1-1c35165ce4a3",
   "metadata": {},
   "outputs": [
    {
     "name": "stdout",
     "output_type": "stream",
     "text": [
      "[0 0 0 0 0 0 0 0 0 0]\n",
      "[1. 1. 1. 1. 1. 1. 1. 1. 1. 1.]\n",
      "[5. 5. 5. 5. 5. 5. 5. 5. 5. 5.]\n"
     ]
    }
   ],
   "source": [
    "# 13. Create Array of Zeros, Ones, Fives\n",
    "# Write a NumPy program to create an array of 10 zeros, 10 ones, and 10 fives. \n",
    "zeros=np.zeros(10,dtype=int)\n",
    "print(zeros)\n",
    "ones=np.ones(10)\n",
    "print(ones)\n",
    "fives=np.ones(10)*5\n",
    "print(fives)\n"
   ]
  },
  {
   "cell_type": "code",
   "execution_count": 95,
   "id": "231c75fe-05f0-490f-8d0f-f81c35b615f6",
   "metadata": {},
   "outputs": [
    {
     "data": {
      "text/plain": [
       "array([30, 31, 32, 33, 34, 35, 36, 37, 38, 39, 40, 41, 42, 43, 44, 45, 46,\n",
       "       47, 48, 49, 50, 51, 52, 53, 54, 55, 56, 57, 58, 59, 60, 61, 62, 63,\n",
       "       64, 65, 66, 67, 68, 69])"
      ]
     },
     "execution_count": 95,
     "metadata": {},
     "output_type": "execute_result"
    }
   ],
   "source": [
    "# 14. Create Array of Integers 30 to 70\n",
    "# Write a NumPy program to create an array of integers from 30 to 70.\n",
    "\n",
    "arr=np.arange(30,70)\n",
    "arr\n"
   ]
  },
  {
   "cell_type": "code",
   "execution_count": 97,
   "id": "07c3779b-f792-4177-9cf1-5c783725147b",
   "metadata": {},
   "outputs": [
    {
     "data": {
      "text/plain": [
       "array([30, 32, 34, 36, 38, 40, 42, 44, 46, 48, 50, 52, 54, 56, 58, 60, 62,\n",
       "       64, 66, 68, 70])"
      ]
     },
     "execution_count": 97,
     "metadata": {},
     "output_type": "execute_result"
    }
   ],
   "source": [
    "# 15. Create Array of Even Integers 30 to 70\n",
    "# Write a NumPy program to create an array of all even integers from 30 to 70.\n",
    "arr=np.arange(30,71,2)\n",
    "arr"
   ]
  },
  {
   "cell_type": "code",
   "execution_count": 107,
   "id": "0f39b623-dccb-4721-8c74-283a2b963a74",
   "metadata": {},
   "outputs": [
    {
     "data": {
      "text/plain": [
       "array([[1, 2, 3],\n",
       "       [4, 5, 6],\n",
       "       [7, 8, 9]])"
      ]
     },
     "execution_count": 107,
     "metadata": {},
     "output_type": "execute_result"
    }
   ],
   "source": [
    "# 16. Create 3x3 Identity Matrix\n",
    "# Write a NumPy program to create a 3x3 identity matrix.\n",
    "# np.identity() function creates a 2D identity matrix with a size of 3x3.\n",
    "# An identity matrix is a square matrix with ones on the diagonal and zeros elsewhere.\n",
    "arr=np.array([1,2,3,4,5,6,7,8,9]).reshape(3,3)\n",
    "arr"
   ]
  },
  {
   "cell_type": "markdown",
   "id": "606a500e-1b82-4706-ab27-afc0ce83c681",
   "metadata": {},
   "source": [
    "# randint():-\n",
    "### NumPy offers the random module to work with random numbers.\n",
    "### generate random number between 0 to 10\n",
    "# Integers array\n",
    "### The randint() method takes a size parameter where you can specify the shape of an array."
   ]
  },
  {
   "cell_type": "code",
   "execution_count": 161,
   "id": "402fb90a-201c-41f0-939d-644923d62ff0",
   "metadata": {},
   "outputs": [
    {
     "name": "stdout",
     "output_type": "stream",
     "text": [
      "2\n",
      "89\n"
     ]
    },
    {
     "data": {
      "text/plain": [
       "array([[9, 2, 5, 7, 8],\n",
       "       [3, 5, 7, 9, 6]], dtype=int32)"
      ]
     },
     "execution_count": 161,
     "metadata": {},
     "output_type": "execute_result"
    }
   ],
   "source": [
    "\n",
    "from numpy import random\n",
    "\n",
    "b=random.randint(10)\n",
    "c=random.randint(10,100)\n",
    "print(b)\n",
    "print(c)\n",
    "d=random.randint(10,size=(2,5))\n",
    "d"
   ]
  },
  {
   "cell_type": "markdown",
   "id": "4d776fdc-a577-4044-a987-16d6ca2fbc84",
   "metadata": {},
   "source": [
    "# rand() :-\n",
    "### The random module's rand() method returns a random float between 0 and 1.\n",
    "### The rand() method also allows you to specify the shape of the array."
   ]
  },
  {
   "cell_type": "code",
   "execution_count": 155,
   "id": "c60f3f72-2252-4d62-8906-9d82dfbca5b3",
   "metadata": {},
   "outputs": [
    {
     "data": {
      "text/plain": [
       "0.554189254880566"
      ]
     },
     "execution_count": 155,
     "metadata": {},
     "output_type": "execute_result"
    }
   ],
   "source": [
    "# 17. Generate Random Number [0,1]\n",
    "# Write a NumPy program to generate a random number between 0 and 1.\n",
    "d=random.rand()\n",
    "d\n",
    "e="
   ]
  },
  {
   "cell_type": "code",
   "execution_count": null,
   "id": "20624f41-a680-4666-8744-f23955121155",
   "metadata": {},
   "outputs": [],
   "source": []
  }
 ],
 "metadata": {
  "kernelspec": {
   "display_name": "Python 3 (ipykernel)",
   "language": "python",
   "name": "python3"
  },
  "language_info": {
   "codemirror_mode": {
    "name": "ipython",
    "version": 3
   },
   "file_extension": ".py",
   "mimetype": "text/x-python",
   "name": "python",
   "nbconvert_exporter": "python",
   "pygments_lexer": "ipython3",
   "version": "3.13.0"
  }
 },
 "nbformat": 4,
 "nbformat_minor": 5
}
