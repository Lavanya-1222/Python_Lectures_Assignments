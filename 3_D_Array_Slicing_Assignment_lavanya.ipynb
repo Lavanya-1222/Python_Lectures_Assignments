{
  "nbformat": 4,
  "nbformat_minor": 0,
  "metadata": {
    "colab": {
      "provenance": []
    },
    "kernelspec": {
      "name": "python3",
      "display_name": "Python 3"
    },
    "language_info": {
      "name": "python"
    }
  },
  "cells": [
    {
      "cell_type": "code",
      "execution_count": 6,
      "metadata": {
        "colab": {
          "base_uri": "https://localhost:8080/"
        },
        "id": "VVyRlbgMedW2",
        "outputId": "a6bca5dc-45ec-40af-d82d-c6b7d154265d"
      },
      "outputs": [
        {
          "output_type": "execute_result",
          "data": {
            "text/plain": [
              "array([[1, 2, 3],\n",
              "       [4, 5, 6],\n",
              "       [7, 8, 9]])"
            ]
          },
          "metadata": {},
          "execution_count": 6
        }
      ],
      "source": [
        "import numpy as np\n",
        "# 1. Input:\n",
        "arr = np.array([[[1, 2, 3],\n",
        "                   [4, 5, 6], [7, 8, 9]],\n",
        "                     [[10, 11, 12], [13, 14, 15], [16, 17, 18]],\n",
        "                     [[19, 20, 21], [22, 23, 24], [25, 26, 27]]])\n",
        "#    Extract the first layer (all rows and columns from the first 2D slice).\n",
        "arr\n",
        "arr[0]"
      ]
    },
    {
      "cell_type": "code",
      "source": [
        "# 2. Input:\n",
        "arr = np.array([[[5, 6, 7], [8, 9, 10], [11, 12, 13]],\n",
        "                     [[15, 16, 17], [18, 19, 20], [21, 22, 23]],\n",
        "                     [[25, 26, 27], [28, 29, 30], [31, 32, 33]]])\n",
        "  #  Extract the element 26 from the array.\n",
        "arr\n",
        "arr[2,0,1]"
      ],
      "metadata": {
        "colab": {
          "base_uri": "https://localhost:8080/"
        },
        "id": "4MPiV1ryes9o",
        "outputId": "621ad366-80b2-4966-a55d-258e050d8be7"
      },
      "execution_count": 9,
      "outputs": [
        {
          "output_type": "execute_result",
          "data": {
            "text/plain": [
              "26"
            ]
          },
          "metadata": {},
          "execution_count": 9
        }
      ]
    },
    {
      "cell_type": "code",
      "source": [
        "# 3 input\n",
        "arr = np.array([[[1, 2, 3], [4, 5, 6], [7, 8, 9]],\n",
        "                     [[10, 11, 12], [13, 14, 15], [16, 17, 18]],\n",
        "                     [[19, 20, 21], [22, 23, 24], [25, 26, 27]]])\n",
        "# Extract all rows and the last column of the second layer.\n",
        "print(arr)\n",
        "arr[1,::,2]\n"
      ],
      "metadata": {
        "colab": {
          "base_uri": "https://localhost:8080/"
        },
        "id": "OTQkUopxfLAv",
        "outputId": "5a3d367b-e670-43ac-cf55-c482f92c82e1"
      },
      "execution_count": 12,
      "outputs": [
        {
          "output_type": "stream",
          "name": "stdout",
          "text": [
            "[[[ 1  2  3]\n",
            "  [ 4  5  6]\n",
            "  [ 7  8  9]]\n",
            "\n",
            " [[10 11 12]\n",
            "  [13 14 15]\n",
            "  [16 17 18]]\n",
            "\n",
            " [[19 20 21]\n",
            "  [22 23 24]\n",
            "  [25 26 27]]]\n"
          ]
        },
        {
          "output_type": "execute_result",
          "data": {
            "text/plain": [
              "array([12, 15, 18])"
            ]
          },
          "metadata": {},
          "execution_count": 12
        }
      ]
    },
    {
      "cell_type": "code",
      "source": [
        "# 4. Input:\n",
        "arr = np.array([[[2, 4, 6], [8, 10, 12], [14, 16, 18]],\n",
        "                     [[20, 22, 24], [26, 28, 30], [32, 34, 36]],\n",
        "                     [[38, 40, 42], [44, 46, 48], [50, 52, 54]]])\n",
        "# Extract the last two layers (all rows and columns from the last two 2D slices).\n",
        "print(arr)\n",
        "print()\n",
        "arr[1:]"
      ],
      "metadata": {
        "colab": {
          "base_uri": "https://localhost:8080/"
        },
        "id": "uVN_fIgkfqJv",
        "outputId": "d9f5ffc2-1f6b-47ba-e100-9c5d0fc943be"
      },
      "execution_count": 15,
      "outputs": [
        {
          "output_type": "stream",
          "name": "stdout",
          "text": [
            "[[[ 2  4  6]\n",
            "  [ 8 10 12]\n",
            "  [14 16 18]]\n",
            "\n",
            " [[20 22 24]\n",
            "  [26 28 30]\n",
            "  [32 34 36]]\n",
            "\n",
            " [[38 40 42]\n",
            "  [44 46 48]\n",
            "  [50 52 54]]]\n",
            "\n"
          ]
        },
        {
          "output_type": "execute_result",
          "data": {
            "text/plain": [
              "array([[[20, 22, 24],\n",
              "        [26, 28, 30],\n",
              "        [32, 34, 36]],\n",
              "\n",
              "       [[38, 40, 42],\n",
              "        [44, 46, 48],\n",
              "        [50, 52, 54]]])"
            ]
          },
          "metadata": {},
          "execution_count": 15
        }
      ]
    },
    {
      "cell_type": "code",
      "source": [
        "# 5. Input:\n",
        "arr = np.array([[[1, 1, 1], [2, 2, 2], [3, 3, 3]],\n",
        "                     [[4, 4, 4], [5, 5, 5], [6, 6, 6]],\n",
        "                     [[7, 7, 7], [8, 8, 8], [9, 9, 9]]])\n",
        "# Extract the first two rows and first two columns of the last layer.\n",
        "print(arr)\n",
        "arr[2,:2,:2]"
      ],
      "metadata": {
        "colab": {
          "base_uri": "https://localhost:8080/"
        },
        "id": "V1CCoAFtgNMg",
        "outputId": "f9ff8dfc-7af9-4386-dac9-5c9c6e23cb50"
      },
      "execution_count": 17,
      "outputs": [
        {
          "output_type": "stream",
          "name": "stdout",
          "text": [
            "[[[1 1 1]\n",
            "  [2 2 2]\n",
            "  [3 3 3]]\n",
            "\n",
            " [[4 4 4]\n",
            "  [5 5 5]\n",
            "  [6 6 6]]\n",
            "\n",
            " [[7 7 7]\n",
            "  [8 8 8]\n",
            "  [9 9 9]]]\n"
          ]
        },
        {
          "output_type": "execute_result",
          "data": {
            "text/plain": [
              "array([[7, 7],\n",
              "       [8, 8]])"
            ]
          },
          "metadata": {},
          "execution_count": 17
        }
      ]
    },
    {
      "cell_type": "code",
      "source": [
        "# 6. Input:\n",
        "arr = np.array([[[0, 1, 2], [3, 4, 5], [6, 7, 8]],\n",
        "                     [[9, 10, 11], [12, 13, 14], [15, 16, 17]],\n",
        "                     [[18, 19, 20], [21, 22, 23], [24, 25, 26]]])\n",
        "# Extract the second column from all layers.\n",
        "print(arr)\n",
        "arr[:,:,1]"
      ],
      "metadata": {
        "colab": {
          "base_uri": "https://localhost:8080/"
        },
        "id": "4c7raL5qgkhS",
        "outputId": "034d18a0-4505-49fb-e5c2-4547d5167bcd"
      },
      "execution_count": 19,
      "outputs": [
        {
          "output_type": "stream",
          "name": "stdout",
          "text": [
            "[[[ 0  1  2]\n",
            "  [ 3  4  5]\n",
            "  [ 6  7  8]]\n",
            "\n",
            " [[ 9 10 11]\n",
            "  [12 13 14]\n",
            "  [15 16 17]]\n",
            "\n",
            " [[18 19 20]\n",
            "  [21 22 23]\n",
            "  [24 25 26]]]\n"
          ]
        },
        {
          "output_type": "execute_result",
          "data": {
            "text/plain": [
              "array([[ 1,  4,  7],\n",
              "       [10, 13, 16],\n",
              "       [19, 22, 25]])"
            ]
          },
          "metadata": {},
          "execution_count": 19
        }
      ]
    },
    {
      "cell_type": "code",
      "source": [
        "# 7. Input:\n",
        "arr = np.array([[[10, 20, 30], [40, 50, 60], [70, 80, 90]],\n",
        "                     [[15, 25, 35], [45, 55, 65], [75, 85, 95]],\n",
        "                     [[100, 200, 300], [400, 500, 600], [700, 800, 900]]])\n",
        "# Extract all elements from the second row across all layers.\n",
        "print(arr)\n",
        "arr[:,1,:]"
      ],
      "metadata": {
        "colab": {
          "base_uri": "https://localhost:8080/"
        },
        "id": "5lVKf0Jzg8ji",
        "outputId": "f7d4b25f-f40c-441f-ca1b-484ae3d97e9d"
      },
      "execution_count": 21,
      "outputs": [
        {
          "output_type": "stream",
          "name": "stdout",
          "text": [
            "[[[ 10  20  30]\n",
            "  [ 40  50  60]\n",
            "  [ 70  80  90]]\n",
            "\n",
            " [[ 15  25  35]\n",
            "  [ 45  55  65]\n",
            "  [ 75  85  95]]\n",
            "\n",
            " [[100 200 300]\n",
            "  [400 500 600]\n",
            "  [700 800 900]]]\n"
          ]
        },
        {
          "output_type": "execute_result",
          "data": {
            "text/plain": [
              "array([[ 40,  50,  60],\n",
              "       [ 45,  55,  65],\n",
              "       [400, 500, 600]])"
            ]
          },
          "metadata": {},
          "execution_count": 21
        }
      ]
    },
    {
      "cell_type": "code",
      "source": [
        "# 8. Input:\n",
        "arr= np.array([[[3, 6, 9], [12, 15, 18], [21, 24, 27]],\n",
        "                     [[30, 33, 36], [39, 42, 45], [48, 51, 54]],\n",
        "                     [[57, 60, 63], [66, 69, 72], [75, 78, 81]]])\n",
        "#  Extract a 2x2x2 sub-array starting from the top-left corner of the array.\n",
        "print(arr)\n",
        "print(\"Output\")\n",
        "arr[:2,:2,:2]"
      ],
      "metadata": {
        "colab": {
          "base_uri": "https://localhost:8080/"
        },
        "id": "ppeHGvWYhRep",
        "outputId": "8752e481-dd8b-4feb-8721-62201e6bdbeb"
      },
      "execution_count": 26,
      "outputs": [
        {
          "output_type": "stream",
          "name": "stdout",
          "text": [
            "[[[ 3  6  9]\n",
            "  [12 15 18]\n",
            "  [21 24 27]]\n",
            "\n",
            " [[30 33 36]\n",
            "  [39 42 45]\n",
            "  [48 51 54]]\n",
            "\n",
            " [[57 60 63]\n",
            "  [66 69 72]\n",
            "  [75 78 81]]]\n",
            "Output\n"
          ]
        },
        {
          "output_type": "execute_result",
          "data": {
            "text/plain": [
              "array([[[ 3,  6],\n",
              "        [12, 15]],\n",
              "\n",
              "       [[30, 33],\n",
              "        [39, 42]]])"
            ]
          },
          "metadata": {},
          "execution_count": 26
        }
      ]
    },
    {
      "cell_type": "code",
      "source": [
        "# 9. Input:\n",
        "arr= np.array([[[5, 10, 15], [20, 25, 30], [35, 40, 45]],\n",
        "                     [[50, 55, 60], [65, 70, 75], [80, 85, 90]],\n",
        "                     [[95, 100, 105], [110, 115, 120], [125, 130, 135]]])\n",
        "# Extract the last two elements of the third row from the second layer.\n",
        "print(arr)\n",
        "print(\"Output\")\n",
        "print(arr[1,2,1:])"
      ],
      "metadata": {
        "colab": {
          "base_uri": "https://localhost:8080/"
        },
        "id": "pSP4W_P9hlMr",
        "outputId": "b960585d-7af6-4c07-a11f-1a71bf47b67d"
      },
      "execution_count": 28,
      "outputs": [
        {
          "output_type": "stream",
          "name": "stdout",
          "text": [
            "[[[  5  10  15]\n",
            "  [ 20  25  30]\n",
            "  [ 35  40  45]]\n",
            "\n",
            " [[ 50  55  60]\n",
            "  [ 65  70  75]\n",
            "  [ 80  85  90]]\n",
            "\n",
            " [[ 95 100 105]\n",
            "  [110 115 120]\n",
            "  [125 130 135]]]\n",
            "Output\n",
            "[85 90]\n"
          ]
        }
      ]
    },
    {
      "cell_type": "code",
      "source": [
        "# 10. Input:\n",
        "arr = np.array([[[2, 4, 6], [8, 10, 12], [14, 16, 18]],\n",
        "                      [[20, 22, 24], [26, 28, 30], [32, 34, 36]],\n",
        "                      [[38, 40, 42], [44, 46, 48], [50, 52, 54]]])\n",
        "# Extract the first column of every row from the second layer.\n",
        "print(arr)\n",
        "print(\"output\")\n",
        "print(arr[1,:,0])"
      ],
      "metadata": {
        "colab": {
          "base_uri": "https://localhost:8080/"
        },
        "id": "O_AeNfzNikXU",
        "outputId": "501b6e40-e830-4195-83e8-485d306cae42"
      },
      "execution_count": 30,
      "outputs": [
        {
          "output_type": "stream",
          "name": "stdout",
          "text": [
            "[[[ 2  4  6]\n",
            "  [ 8 10 12]\n",
            "  [14 16 18]]\n",
            "\n",
            " [[20 22 24]\n",
            "  [26 28 30]\n",
            "  [32 34 36]]\n",
            "\n",
            " [[38 40 42]\n",
            "  [44 46 48]\n",
            "  [50 52 54]]]\n",
            "output\n",
            "[20 26 32]\n"
          ]
        }
      ]
    },
    {
      "cell_type": "code",
      "source": [
        "# 11. Input:\n",
        "arr = np.array([[[1, 1, 1], [2, 2, 2], [3, 3, 3]],\n",
        "                      [[4, 4, 4], [5, 5, 5], [6, 6, 6]],\n",
        "                      [[7, 7, 7], [8, 8, 8], [9, 9, 9]]])\n",
        "    # Extract all rows except the last one from all layers.\n",
        "print(arr)\n",
        "print(\"output\")\n",
        "print(arr[:,:2,:])"
      ],
      "metadata": {
        "colab": {
          "base_uri": "https://localhost:8080/"
        },
        "id": "R4s-gMqDjC3k",
        "outputId": "7a35cab1-4460-4a2a-bcd9-a35d4f615ee3"
      },
      "execution_count": 32,
      "outputs": [
        {
          "output_type": "stream",
          "name": "stdout",
          "text": [
            "[[[1 1 1]\n",
            "  [2 2 2]\n",
            "  [3 3 3]]\n",
            "\n",
            " [[4 4 4]\n",
            "  [5 5 5]\n",
            "  [6 6 6]]\n",
            "\n",
            " [[7 7 7]\n",
            "  [8 8 8]\n",
            "  [9 9 9]]]\n",
            "output\n",
            "[[[1 1 1]\n",
            "  [2 2 2]]\n",
            "\n",
            " [[4 4 4]\n",
            "  [5 5 5]]\n",
            "\n",
            " [[7 7 7]\n",
            "  [8 8 8]]]\n"
          ]
        }
      ]
    },
    {
      "cell_type": "code",
      "source": [
        "# 12. Input:\n",
        "arr = np.array([[[0, 2, 4], [6, 8, 10], [12, 14, 16]],\n",
        "                      [[18, 20, 22], [24, 26, 28], [30, 32, 34]],\n",
        "                      [[36, 38, 40], [42, 44, 46], [48, 50, 52]]])\n",
        "    # Extract all elements except the first two columns from the last layer.\n",
        "print(arr)\n",
        "print(\"Output\")\n",
        "print(arr[2,:,2])"
      ],
      "metadata": {
        "colab": {
          "base_uri": "https://localhost:8080/"
        },
        "id": "jPEExIIHjWwB",
        "outputId": "2f8a94e7-781b-4c3d-c076-5080ab3bb074"
      },
      "execution_count": 34,
      "outputs": [
        {
          "output_type": "stream",
          "name": "stdout",
          "text": [
            "[[[ 0  2  4]\n",
            "  [ 6  8 10]\n",
            "  [12 14 16]]\n",
            "\n",
            " [[18 20 22]\n",
            "  [24 26 28]\n",
            "  [30 32 34]]\n",
            "\n",
            " [[36 38 40]\n",
            "  [42 44 46]\n",
            "  [48 50 52]]]\n",
            "Output\n",
            "[40 46 52]\n"
          ]
        }
      ]
    },
    {
      "cell_type": "code",
      "source": [
        "# 13. Input:\n",
        "arr = np.array([[[100, 200, 300], [400, 500, 600], [700, 800, 900]],\n",
        "                      [[110, 210, 310], [410, 510, 610], [710, 810, 910]],\n",
        "                      [[120, 220, 320], [420, 520, 620], [720, 820, 920]]])\n",
        "    # Extract the elements at positions (1, 1, 1) and (2, 2, 2).\n",
        "print(arr[1,1,1])\n",
        "print(arr[2,2,2])"
      ],
      "metadata": {
        "colab": {
          "base_uri": "https://localhost:8080/"
        },
        "id": "Iod9Gdv6jwCb",
        "outputId": "e9da5215-3731-4754-d58d-16c32113cf0e"
      },
      "execution_count": 37,
      "outputs": [
        {
          "output_type": "stream",
          "name": "stdout",
          "text": [
            "510\n",
            "920\n"
          ]
        }
      ]
    },
    {
      "cell_type": "code",
      "source": [
        "# 14. Input:\n",
        "arr= np.array([[[10, 20, 30], [40, 50, 60], [70, 80, 90]],\n",
        "                      [[15, 25, 35], [45, 55, 65], [75, 85, 95]],\n",
        "                      [[100, 200, 300], [400, 500, 600], [700, 800, 900]]])\n",
        "    # Extract a 2x2x2 sub-array starting from the middle of the array.\n",
        "print(arr)\n",
        "print(\"output\")\n",
        "print(arr[1:,1:,1:])\n",
        "na=arr[1]\n",
        "\n"
      ],
      "metadata": {
        "colab": {
          "base_uri": "https://localhost:8080/"
        },
        "id": "w_U711UTkFk5",
        "outputId": "80b94e96-bad0-40b9-9203-1b25c7a4a546"
      },
      "execution_count": 40,
      "outputs": [
        {
          "output_type": "stream",
          "name": "stdout",
          "text": [
            "[[[ 10  20  30]\n",
            "  [ 40  50  60]\n",
            "  [ 70  80  90]]\n",
            "\n",
            " [[ 15  25  35]\n",
            "  [ 45  55  65]\n",
            "  [ 75  85  95]]\n",
            "\n",
            " [[100 200 300]\n",
            "  [400 500 600]\n",
            "  [700 800 900]]]\n",
            "output\n",
            "[[[ 55  65]\n",
            "  [ 85  95]]\n",
            "\n",
            " [[500 600]\n",
            "  [800 900]]]\n"
          ]
        }
      ]
    },
    {
      "cell_type": "code",
      "source": [
        "# 15. Input:\n",
        "arr = np.array([[[1, 2, 3], [4, 5, 6], [7, 8, 9]],\n",
        "                      [[10, 11, 12], [13, 14, 15], [16, 17, 18]],\n",
        "                      [[19, 20, 21], [22, 23, 24], [25, 26, 27]]])\n",
        "    # Extract all layers but reverse the row order of the second layer.\n",
        "print(arr)\n",
        "print(\"Output\")\n",
        "na=arr[:]\n",
        "na[1]=arr[1,:,::-1]\n",
        "print(na)"
      ],
      "metadata": {
        "colab": {
          "base_uri": "https://localhost:8080/"
        },
        "id": "hxKsVOYVkYrG",
        "outputId": "9269cd99-7bfa-4794-ee90-a8fa2b50cd7c"
      },
      "execution_count": 44,
      "outputs": [
        {
          "output_type": "stream",
          "name": "stdout",
          "text": [
            "[[[ 1  2  3]\n",
            "  [ 4  5  6]\n",
            "  [ 7  8  9]]\n",
            "\n",
            " [[10 11 12]\n",
            "  [13 14 15]\n",
            "  [16 17 18]]\n",
            "\n",
            " [[19 20 21]\n",
            "  [22 23 24]\n",
            "  [25 26 27]]]\n",
            "Output\n",
            "[[[ 1  2  3]\n",
            "  [ 4  5  6]\n",
            "  [ 7  8  9]]\n",
            "\n",
            " [[12 11 10]\n",
            "  [15 14 13]\n",
            "  [18 17 16]]\n",
            "\n",
            " [[19 20 21]\n",
            "  [22 23 24]\n",
            "  [25 26 27]]]\n"
          ]
        }
      ]
    },
    {
      "cell_type": "code",
      "source": [
        "# prompt: # Extract all layers but reverse the row order of the second layer.\n",
        "\n",
        "import numpy as np\n",
        "\n",
        "arr = np.array([[[1, 2, 3], [4, 5, 6], [7, 8, 9]],\n",
        "                      [[10, 11, 12], [13, 14, 15], [16, 17, 18]],\n",
        "                      [[19, 20, 21], [22, 23, 24], [25, 26, 27]]])\n",
        "\n",
        "# Extract all layers\n",
        "new_arr = arr[:]\n",
        "\n",
        "# Reverse the row order of the second layer\n",
        "new_arr[1] = np.flip(arr[1], axis=0)\n",
        "\n",
        "new_arr"
      ],
      "metadata": {
        "id": "hywzrQlGlGVb"
      },
      "execution_count": 41,
      "outputs": []
    }
  ]
}