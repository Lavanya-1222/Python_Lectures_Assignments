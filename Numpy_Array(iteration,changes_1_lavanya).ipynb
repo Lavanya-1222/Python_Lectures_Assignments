{
 "cells": [
  {
   "cell_type": "code",
   "execution_count": 1,
   "metadata": {
    "id": "lPo0Yg_Y57vi"
   },
   "outputs": [],
   "source": [
    "import numpy as np"
   ]
  },
  {
   "cell_type": "code",
   "execution_count": 4,
   "metadata": {
    "colab": {
     "base_uri": "https://localhost:8080/"
    },
    "id": "AkBdezKn5zqj",
    "outputId": "9d7df874-1324-44b5-9388-ed15b42ba85a"
   },
   "outputs": [
    {
     "name": "stdout",
     "output_type": "stream",
     "text": [
      "[[ 1  2  3  4]\n",
      " [ 5  6  7  8]\n",
      " [ 9 10 11 12]]\n"
     ]
    },
    {
     "data": {
      "text/plain": [
       "array([[ 1,  2,  3,  4],\n",
       "       [ 5,  6,  7,  8],\n",
       "       [ 9, 10, 11, 12]])"
      ]
     },
     "execution_count": 4,
     "metadata": {},
     "output_type": "execute_result"
    }
   ],
   "source": [
    "# 1. 2D Array Creation\n",
    "#    Create a 2D NumPy array of shape (3, 4) with values ranging from 1 to 12.\n",
    "print(np.array(range(1,13)).reshape(3,4))\n",
    "np.arange(1,13).reshape(3,4)"
   ]
  },
  {
   "cell_type": "code",
   "execution_count": 5,
   "metadata": {
    "colab": {
     "base_uri": "https://localhost:8080/"
    },
    "id": "IvSQpWk46FER",
    "outputId": "426dd98e-1637-4fd9-ffc2-29ba539bbfe4"
   },
   "outputs": [
    {
     "data": {
      "text/plain": [
       "array([[[ 1,  2,  3,  4],\n",
       "        [ 5,  6,  7,  8],\n",
       "        [ 9, 10, 11, 12]],\n",
       "\n",
       "       [[13, 14, 15, 16],\n",
       "        [17, 18, 19, 20],\n",
       "        [21, 22, 23, 24]]])"
      ]
     },
     "execution_count": 5,
     "metadata": {},
     "output_type": "execute_result"
    }
   ],
   "source": [
    "# 2. 3D Array Creation\n",
    "#    Create a 3D NumPy array of shape (2, 3, 4) with sequential numbers starting from 1.\n",
    "np.arange(1,25).reshape(2,3,4)\n"
   ]
  },
  {
   "cell_type": "code",
   "execution_count": 7,
   "metadata": {
    "colab": {
     "base_uri": "https://localhost:8080/"
    },
    "id": "UlkvDW156YGJ",
    "outputId": "339f8879-3839-4cc1-c579-e271facd8183"
   },
   "outputs": [
    {
     "data": {
      "text/plain": [
       "array([[ 7,  8],\n",
       "       [11, 12]])"
      ]
     },
     "execution_count": 7,
     "metadata": {},
     "output_type": "execute_result"
    }
   ],
   "source": [
    "# 3. 2D Slicing\n",
    "#    Given the following array:\n",
    "\n",
    "#    A = [[1, 2, 3, 4],\n",
    "#         [5, 6, 7, 8],\n",
    "#         [9, 10, 11, 12]]\n",
    "\n",
    "#    Extract a subarray containing the last two rows and the last two columns.\n",
    "arr=np.array([[1, 2, 3, 4],\n",
    "        [5, 6, 7, 8],\n",
    "        [9, 10, 11, 12]])\n",
    "arr\n",
    "arr[1:,2:]"
   ]
  },
  {
   "cell_type": "code",
   "execution_count": 9,
   "metadata": {
    "colab": {
     "base_uri": "https://localhost:8080/"
    },
    "id": "ppGM12xp6lXh",
    "outputId": "dc7a7334-c713-4e99-b131-83a48a8592c6"
   },
   "outputs": [
    {
     "data": {
      "text/plain": [
       "array([[13, 14, 15, 16],\n",
       "       [17, 18, 19, 20],\n",
       "       [21, 22, 23, 24]])"
      ]
     },
     "execution_count": 9,
     "metadata": {},
     "output_type": "execute_result"
    }
   ],
   "source": [
    "# 4. 3D Slicing\n",
    "#    Given the following 3D array:\n",
    "\n",
    "#    A = [[[1, 2, 3, 4],\n",
    "#          [5, 6, 7, 8],\n",
    "#          [9, 10, 11, 12]],\n",
    "\n",
    "#         [[13, 14, 15, 16],\n",
    "#          [17, 18, 19, 20],\n",
    "#          [21, 22, 23, 24]]]\n",
    "\n",
    "#    Extract all elements from the second matrix (i.e., elements from index 1).\n",
    "arr=np.array([[[1, 2, 3, 4],\n",
    "         [5, 6, 7, 8],\n",
    "         [9, 10, 11, 12]],\n",
    "\n",
    "        [[13, 14, 15, 16],\n",
    "         [17, 18, 19, 20],\n",
    "         [21, 22, 23, 24]]])\n",
    "arr\n",
    "arr[1]"
   ]
  },
  {
   "cell_type": "code",
   "execution_count": 11,
   "metadata": {
    "colab": {
     "base_uri": "https://localhost:8080/"
    },
    "id": "nabUM2ay7C4L",
    "outputId": "68c93588-befc-49d0-dffc-f55a18babb46"
   },
   "outputs": [
    {
     "name": "stdout",
     "output_type": "stream",
     "text": [
      "[1 2 3]\n",
      "[4 5 6]\n",
      "[7 8 9]\n"
     ]
    }
   ],
   "source": [
    "# 5. Iterating Over a 2D Array\n",
    "#    Given the array:\n",
    "\n",
    "#    A = [[1, 2, 3],\n",
    "#         [4, 5, 6],\n",
    "#         [7, 8, 9]]\n",
    "\n",
    "#    Print all elements row-wise.\n",
    "arr=np.array([[1, 2, 3],\n",
    "        [4, 5, 6],\n",
    "        [7, 8, 9]])\n",
    "l=arr.shape\n",
    "for i in range(l[0]):\n",
    "  print(arr[i])"
   ]
  },
  {
   "cell_type": "code",
   "execution_count": 15,
   "metadata": {
    "colab": {
     "base_uri": "https://localhost:8080/"
    },
    "id": "qcT1uZMD7bfR",
    "outputId": "bf19cf75-d021-4e09-9cc0-9bef2dad52cb"
   },
   "outputs": [
    {
     "name": "stdout",
     "output_type": "stream",
     "text": [
      "1 2 3 4 5 6 7 8 9 10 11 12 13 14 15 16 17 18 "
     ]
    }
   ],
   "source": [
    "# 6. Iterating Over a 3D Array\n",
    "#    Given a 3D NumPy array of shape (2, 3, 3), iterate through all its elements one by one.\n",
    "arr=np.arange(1,19).reshape(2,3,3)\n",
    "for i in np.nditer(arr):\n",
    "  print(i,end=\" \")"
   ]
  },
  {
   "cell_type": "code",
   "execution_count": 19,
   "metadata": {
    "colab": {
     "base_uri": "https://localhost:8080/"
    },
    "id": "RY_P-t1S7wMh",
    "outputId": "7def9d68-21eb-4578-8e57-51ef944dc4ea"
   },
   "outputs": [
    {
     "name": "stdout",
     "output_type": "stream",
     "text": [
      "[[1 2 3]\n",
      " [4 5 6]\n",
      " [7 8 9]]\n"
     ]
    },
    {
     "data": {
      "text/plain": [
       "array([[ 1,  2,  3],\n",
       "       [ 4, 99,  6],\n",
       "       [ 7,  8,  9]])"
      ]
     },
     "execution_count": 19,
     "metadata": {},
     "output_type": "execute_result"
    }
   ],
   "source": [
    "# 7. Update Specific Value in a 2D Array\n",
    "#    Given the array:\n",
    "\n",
    "#    A = [[1, 2, 3],\n",
    "#         [4, 5, 6],\n",
    "#         [7, 8, 9]]\n",
    "\n",
    "#    Change the value at index (1,1) to 99.\n",
    "arr=np.array([[1, 2, 3],\n",
    "        [4, 5, 6],\n",
    "        [7, 8, 9]])\n",
    "print(arr)\n",
    "arr[1,1]=99\n",
    "arr"
   ]
  },
  {
   "cell_type": "code",
   "execution_count": 20,
   "metadata": {
    "colab": {
     "base_uri": "https://localhost:8080/"
    },
    "id": "n5Ks3n078ZRJ",
    "outputId": "184d3c66-4b4d-4388-8a40-fd5c8c15e2d5"
   },
   "outputs": [
    {
     "name": "stdout",
     "output_type": "stream",
     "text": [
      "[[1 2 3]\n",
      " [4 5 6]\n",
      " [7 8 9]]\n"
     ]
    },
    {
     "data": {
      "text/plain": [
       "array([[ 1,  2,  3],\n",
       "       [10, 11, 12],\n",
       "       [ 7,  8,  9]])"
      ]
     },
     "execution_count": 20,
     "metadata": {},
     "output_type": "execute_result"
    }
   ],
   "source": [
    "# 8. Update Entire Row in a 2D Array\n",
    "#    Given the array:\n",
    "\n",
    "#    A = [[1, 2, 3],\n",
    "#         [4, 5, 6],\n",
    "#         [7, 8, 9]]\n",
    "\n",
    "#    Replace the second row with [10, 11, 12].\n",
    "arr=np.array([[1, 2, 3],\n",
    "        [4, 5, 6],\n",
    "        [7, 8, 9]] )\n",
    "print(arr)\n",
    "arr[1]=[10,11,12]\n",
    "arr"
   ]
  },
  {
   "cell_type": "code",
   "execution_count": 23,
   "metadata": {
    "colab": {
     "base_uri": "https://localhost:8080/"
    },
    "id": "bWZ102B681YZ",
    "outputId": "67ca5d49-3353-4035-ab03-781ffc2ce7ea"
   },
   "outputs": [
    {
     "name": "stdout",
     "output_type": "stream",
     "text": [
      "[[1 2 3]\n",
      " [7 8 9]\n",
      " [4 5 6]]\n"
     ]
    },
    {
     "data": {
      "text/plain": [
       "array([[1, 2, 3],\n",
       "       [4, 5, 6]])"
      ]
     },
     "execution_count": 23,
     "metadata": {},
     "output_type": "execute_result"
    }
   ],
   "source": [
    "# 9. Insert a Row in a 2D Array\n",
    "#    Given the array:\n",
    "\n",
    "#    A = [[1, 2, 3],\n",
    "#         [4, 5, 6]]\n",
    "\n",
    "  #  Insert a new row [7, 8, 9] at index 1.\n",
    "arr=np.array([[1, 2, 3],\n",
    "        [4, 5, 6]])\n",
    "print(np.insert(arr,1,[7,8,9],axis=0))\n",
    "arr\n"
   ]
  },
  {
   "cell_type": "code",
   "execution_count": 25,
   "metadata": {
    "colab": {
     "base_uri": "https://localhost:8080/"
    },
    "id": "ARFwBPfv9U35",
    "outputId": "9873b53f-8a82-4fdf-faec-8f733481693d"
   },
   "outputs": [
    {
     "data": {
      "text/plain": [
       "array([[1, 7, 2],\n",
       "       [3, 8, 4],\n",
       "       [5, 9, 6]])"
      ]
     },
     "execution_count": 25,
     "metadata": {},
     "output_type": "execute_result"
    }
   ],
   "source": [
    "# 10. Insert a Column in a 2D Array\n",
    "#    Given the array:\n",
    "\n",
    "#    A = [[1, 2],\n",
    "#         [3, 4],\n",
    "#         [5, 6]]\n",
    "\n",
    "#    Insert a new column [7, 8, 9] at index 1.\n",
    "arr=np.array([[1, 2],\n",
    "        [3, 4],\n",
    "        [5, 6]])\n",
    "arr\n",
    "np.insert(arr,1,[7,8,9],axis=1)"
   ]
  },
  {
   "cell_type": "code",
   "execution_count": 29,
   "metadata": {
    "colab": {
     "base_uri": "https://localhost:8080/"
    },
    "id": "go3qPDBX9qeB",
    "outputId": "da70001a-5fbf-47fb-a23a-c73a26c49d04"
   },
   "outputs": [
    {
     "name": "stdout",
     "output_type": "stream",
     "text": [
      "[[1 2 3]\n",
      " [7 8 9]]\n"
     ]
    },
    {
     "data": {
      "text/plain": [
       "array([[1, 2, 3],\n",
       "       [4, 5, 6],\n",
       "       [7, 8, 9]])"
      ]
     },
     "execution_count": 29,
     "metadata": {},
     "output_type": "execute_result"
    }
   ],
   "source": [
    "# 11. Delete a Row in a 2D Array\n",
    "#    Given the array:\n",
    "\n",
    "#    A = [[1, 2, 3],\n",
    "#         [4, 5, 6],\n",
    "#         [7, 8, 9]]\n",
    "\n",
    "#    Delete the second row.\n",
    "arr=np.array( [[1, 2, 3],\n",
    "        [4, 5, 6],\n",
    "        [7, 8, 9]])\n",
    "\n",
    "print(np.delete(arr,1,axis=0))\n",
    "arr"
   ]
  },
  {
   "cell_type": "code",
   "execution_count": 33,
   "metadata": {
    "colab": {
     "base_uri": "https://localhost:8080/"
    },
    "id": "k27e-9_S95UA",
    "outputId": "cd92272b-108a-422b-ff9b-67b51e48085f"
   },
   "outputs": [
    {
     "name": "stdout",
     "output_type": "stream",
     "text": [
      "[[1 2 3]\n",
      " [4 5 6]\n",
      " [7 8 9]]\n"
     ]
    },
    {
     "data": {
      "text/plain": [
       "array([[1, 2],\n",
       "       [4, 5],\n",
       "       [7, 8]])"
      ]
     },
     "execution_count": 33,
     "metadata": {},
     "output_type": "execute_result"
    }
   ],
   "source": [
    "# 12. Delete a Column in a 2D Array\n",
    "#    Given the array:\n",
    "\n",
    "#    A = [[1, 2, 3],\n",
    "#         [4, 5, 6],\n",
    "#         [7, 8, 9]]\n",
    "\n",
    "#    Delete the last column.\n",
    "arr=np.array([[1, 2, 3],\n",
    "        [4, 5, 6],\n",
    "        [7, 8, 9]])\n",
    "print(arr)\n",
    "np.delete(arr,2,axis=1)\n"
   ]
  },
  {
   "cell_type": "code",
   "execution_count": 40,
   "metadata": {
    "colab": {
     "base_uri": "https://localhost:8080/"
    },
    "id": "FvbuM2EI-8nZ",
    "outputId": "a7aadce5-e9c8-4d52-c1b0-bffba7fd4ffa"
   },
   "outputs": [
    {
     "name": "stdout",
     "output_type": "stream",
     "text": [
      "[[1 2 3]\n",
      " [4 5 6]]\n"
     ]
    },
    {
     "data": {
      "text/plain": [
       "array([[1, 2, 3],\n",
       "       [4, 5, 6],\n",
       "       [7, 8, 9]])"
      ]
     },
     "execution_count": 40,
     "metadata": {},
     "output_type": "execute_result"
    }
   ],
   "source": [
    "# 13. Appending a Row to a 2D Array\n",
    "  #  Given the array:\n",
    "\n",
    "  #  A = [[1, 2, 3],\n",
    "  #       [4, 5, 6]]\n",
    "\n",
    "  #  Append the row [7, 8, 9] to the array.\n",
    "arr=np.array([[1, 2, 3],\n",
    "        [4, 5, 6]])\n",
    "print(arr)\n",
    "np.append(arr,[[7,8,9]],axis=0)"
   ]
  },
  {
   "cell_type": "code",
   "execution_count": 43,
   "metadata": {
    "colab": {
     "base_uri": "https://localhost:8080/"
    },
    "id": "HxV4HwMl_QtA",
    "outputId": "de742052-8603-47e4-c85a-b0ca12a4fc8c"
   },
   "outputs": [
    {
     "name": "stdout",
     "output_type": "stream",
     "text": [
      "[[[1 2]\n",
      "  [3 4]]\n",
      "\n",
      " [[5 6]\n",
      "  [7 8]]]\n",
      "[[[ 9 10]\n",
      "  [11 12]]]\n"
     ]
    },
    {
     "data": {
      "text/plain": [
       "array([[[ 1,  2],\n",
       "        [ 3,  4]],\n",
       "\n",
       "       [[ 5,  6],\n",
       "        [ 7,  8]],\n",
       "\n",
       "       [[ 9, 10],\n",
       "        [11, 12]]])"
      ]
     },
     "execution_count": 43,
     "metadata": {},
     "output_type": "execute_result"
    }
   ],
   "source": [
    "# 14. Appending a 3D Array\n",
    "#    Given two 3D arrays:\n",
    "\n",
    "#    A = [[[1, 2], [3, 4]],\n",
    "#         [[5, 6], [7, 8]]]\n",
    "\n",
    "#    B = [[[9, 10], [11, 12]]]\n",
    "\n",
    "#    Append B to A along axis 0.\n",
    "\n",
    "arr1=np.array([[[1, 2], [3, 4]],\n",
    "        [[5, 6], [7, 8]]])\n",
    "arr2=np.array([[[9, 10], [11, 12]]])\n",
    "print(arr1)\n",
    "print(arr2)\n",
    "np.append(arr1,arr2,axis=0)"
   ]
  },
  {
   "cell_type": "code",
   "execution_count": 46,
   "metadata": {
    "colab": {
     "base_uri": "https://localhost:8080/"
    },
    "id": "UmXTnxz7ACLQ",
    "outputId": "fed3fc1e-3c55-4357-9290-7e423304d1e2"
   },
   "outputs": [
    {
     "name": "stdout",
     "output_type": "stream",
     "text": [
      "[[10 15 20]\n",
      " [25 30 35]\n",
      " [40 45 50]]\n",
      "10 20 30 40 50 "
     ]
    }
   ],
   "source": [
    "# 15. Find Even Numbers in a 2D Array\n",
    "#     Given the array:\n",
    "\n",
    "#          A = [[10, 15, 20],\n",
    "#      \t     [25, 30, 35],\n",
    "#              [40, 45, 50]]\n",
    "\n",
    "# Extract all even numbers.\n",
    "arr=np.array([[10, 15, 20],\n",
    "     \t     [25, 30, 35],\n",
    "             [40, 45, 50]])\n",
    "print(arr)\n",
    "for i in np.nditer(arr):\n",
    "  if i%2==0:\n",
    "   print(i,end=\" \")"
   ]
  },
  {
   "cell_type": "code",
   "execution_count": null,
   "metadata": {
    "id": "rTCastiSAgWI"
   },
   "outputs": [],
   "source": []
  }
 ],
 "metadata": {
  "colab": {
   "provenance": []
  },
  "kernelspec": {
   "display_name": "Python 3 (ipykernel)",
   "language": "python",
   "name": "python3"
  },
  "language_info": {
   "codemirror_mode": {
    "name": "ipython",
    "version": 3
   },
   "file_extension": ".py",
   "mimetype": "text/x-python",
   "name": "python",
   "nbconvert_exporter": "python",
   "pygments_lexer": "ipython3",
   "version": "3.13.0"
  }
 },
 "nbformat": 4,
 "nbformat_minor": 4
}
